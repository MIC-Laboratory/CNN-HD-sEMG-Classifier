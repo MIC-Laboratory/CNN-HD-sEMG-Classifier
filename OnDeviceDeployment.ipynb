{
 "cells": [
  {
   "attachments": {},
   "cell_type": "markdown",
   "metadata": {},
   "source": [
    "This is an implementation of depolying CNN gensture reconition model to edge device (e.g. Sony Spresense)\n",
    "\n",
    "Step Overview:\n",
    "1. Conver Pytorch Model to Onnx Model\n",
    "2. Conver Onnx Model to Tensorflow Model\n",
    "3. Quantizte the Tensorflow Model and convert it to Tensorflow Lite Model\n",
    "4. Using Edge Impuls to generate code for Sony Spresense"
   ]
  },
  {
   "attachments": {},
   "cell_type": "markdown",
   "metadata": {},
   "source": [
    "# Conver Pytorch Model to Onnx Model"
   ]
  },
  {
   "cell_type": "code",
   "execution_count": 11,
   "metadata": {},
   "outputs": [
    {
     "name": "stdout",
     "output_type": "stream",
     "text": [
      "Exported graph: graph(%input.1 : Float(1, 1, 8, 24, strides=[192, 192, 24, 1], requires_grad=0, device=cuda:0),\n",
      "      %conv1.weight : Float(32, 1, 3, 3, strides=[9, 9, 3, 1], requires_grad=1, device=cuda:0),\n",
      "      %layers.0.conv1.weight : Float(32, 32, 1, 1, strides=[32, 1, 1, 1], requires_grad=1, device=cuda:0),\n",
      "      %layers.0.conv2.weight : Float(32, 1, 3, 3, strides=[9, 9, 3, 1], requires_grad=1, device=cuda:0),\n",
      "      %layers.0.conv3.weight : Float(16, 32, 1, 1, strides=[32, 1, 1, 1], requires_grad=1, device=cuda:0),\n",
      "      %layers.0.shortcut.0.weight : Float(16, 32, 1, 1, strides=[32, 1, 1, 1], requires_grad=1, device=cuda:0),\n",
      "      %layers.1.conv1.weight : Float(16, 16, 1, 1, strides=[16, 1, 1, 1], requires_grad=1, device=cuda:0),\n",
      "      %layers.1.conv2.weight : Float(16, 1, 3, 3, strides=[9, 9, 3, 1], requires_grad=1, device=cuda:0),\n",
      "      %layers.1.conv3.weight : Float(24, 16, 1, 1, strides=[16, 1, 1, 1], requires_grad=1, device=cuda:0),\n",
      "      %layers.1.shortcut.0.weight : Float(24, 16, 1, 1, strides=[16, 1, 1, 1], requires_grad=1, device=cuda:0),\n",
      "      %layers.2.conv1.weight : Float(24, 24, 1, 1, strides=[24, 1, 1, 1], requires_grad=1, device=cuda:0),\n",
      "      %layers.2.conv2.weight : Float(24, 1, 3, 3, strides=[9, 9, 3, 1], requires_grad=1, device=cuda:0),\n",
      "      %layers.2.conv3.weight : Float(24, 24, 1, 1, strides=[24, 1, 1, 1], requires_grad=1, device=cuda:0),\n",
      "      %layers.3.conv1.weight : Float(24, 24, 1, 1, strides=[24, 1, 1, 1], requires_grad=1, device=cuda:0),\n",
      "      %layers.3.conv2.weight : Float(24, 1, 3, 3, strides=[9, 9, 3, 1], requires_grad=1, device=cuda:0),\n",
      "      %layers.3.conv3.weight : Float(32, 24, 1, 1, strides=[24, 1, 1, 1], requires_grad=1, device=cuda:0),\n",
      "      %layers.4.conv1.weight : Float(32, 32, 1, 1, strides=[32, 1, 1, 1], requires_grad=1, device=cuda:0),\n",
      "      %layers.4.conv2.weight : Float(32, 1, 3, 3, strides=[9, 9, 3, 1], requires_grad=1, device=cuda:0),\n",
      "      %layers.4.conv3.weight : Float(32, 32, 1, 1, strides=[32, 1, 1, 1], requires_grad=1, device=cuda:0),\n",
      "      %layers.5.conv1.weight : Float(32, 32, 1, 1, strides=[32, 1, 1, 1], requires_grad=1, device=cuda:0),\n",
      "      %layers.5.conv2.weight : Float(32, 1, 3, 3, strides=[9, 9, 3, 1], requires_grad=1, device=cuda:0),\n",
      "      %layers.5.conv3.weight : Float(32, 32, 1, 1, strides=[32, 1, 1, 1], requires_grad=1, device=cuda:0),\n",
      "      %layers.6.conv1.weight : Float(32, 32, 1, 1, strides=[32, 1, 1, 1], requires_grad=1, device=cuda:0),\n",
      "      %layers.6.conv2.weight : Float(32, 1, 3, 3, strides=[9, 9, 3, 1], requires_grad=1, device=cuda:0),\n",
      "      %layers.6.conv3.weight : Float(64, 32, 1, 1, strides=[32, 1, 1, 1], requires_grad=1, device=cuda:0),\n",
      "      %layers.7.conv1.weight : Float(64, 64, 1, 1, strides=[64, 1, 1, 1], requires_grad=1, device=cuda:0),\n",
      "      %layers.7.conv2.weight : Float(64, 1, 3, 3, strides=[9, 9, 3, 1], requires_grad=1, device=cuda:0),\n",
      "      %layers.7.conv3.weight : Float(64, 64, 1, 1, strides=[64, 1, 1, 1], requires_grad=1, device=cuda:0),\n",
      "      %layers.8.conv1.weight : Float(64, 64, 1, 1, strides=[64, 1, 1, 1], requires_grad=1, device=cuda:0),\n",
      "      %layers.8.conv2.weight : Float(64, 1, 3, 3, strides=[9, 9, 3, 1], requires_grad=1, device=cuda:0),\n",
      "      %layers.8.conv3.weight : Float(64, 64, 1, 1, strides=[64, 1, 1, 1], requires_grad=1, device=cuda:0),\n",
      "      %layers.9.conv1.weight : Float(64, 64, 1, 1, strides=[64, 1, 1, 1], requires_grad=1, device=cuda:0),\n",
      "      %layers.9.conv2.weight : Float(64, 1, 3, 3, strides=[9, 9, 3, 1], requires_grad=1, device=cuda:0),\n",
      "      %layers.9.conv3.weight : Float(64, 64, 1, 1, strides=[64, 1, 1, 1], requires_grad=1, device=cuda:0),\n",
      "      %layers.10.conv1.weight : Float(64, 64, 1, 1, strides=[64, 1, 1, 1], requires_grad=1, device=cuda:0),\n",
      "      %layers.10.conv2.weight : Float(64, 1, 3, 3, strides=[9, 9, 3, 1], requires_grad=1, device=cuda:0),\n",
      "      %layers.10.conv3.weight : Float(96, 64, 1, 1, strides=[64, 1, 1, 1], requires_grad=1, device=cuda:0),\n",
      "      %layers.10.shortcut.0.weight : Float(96, 64, 1, 1, strides=[64, 1, 1, 1], requires_grad=1, device=cuda:0),\n",
      "      %layers.11.conv1.weight : Float(96, 96, 1, 1, strides=[96, 1, 1, 1], requires_grad=1, device=cuda:0),\n",
      "      %layers.11.conv2.weight : Float(96, 1, 3, 3, strides=[9, 9, 3, 1], requires_grad=1, device=cuda:0),\n",
      "      %layers.11.conv3.weight : Float(96, 96, 1, 1, strides=[96, 1, 1, 1], requires_grad=1, device=cuda:0),\n",
      "      %layers.12.conv1.weight : Float(96, 96, 1, 1, strides=[96, 1, 1, 1], requires_grad=1, device=cuda:0),\n",
      "      %layers.12.conv2.weight : Float(96, 1, 3, 3, strides=[9, 9, 3, 1], requires_grad=1, device=cuda:0),\n",
      "      %layers.12.conv3.weight : Float(96, 96, 1, 1, strides=[96, 1, 1, 1], requires_grad=1, device=cuda:0),\n",
      "      %layers.13.conv1.weight : Float(96, 96, 1, 1, strides=[96, 1, 1, 1], requires_grad=1, device=cuda:0),\n",
      "      %layers.13.conv2.weight : Float(96, 1, 3, 3, strides=[9, 9, 3, 1], requires_grad=1, device=cuda:0),\n",
      "      %layers.13.conv3.weight : Float(160, 96, 1, 1, strides=[96, 1, 1, 1], requires_grad=1, device=cuda:0),\n",
      "      %layers.14.conv1.weight : Float(160, 160, 1, 1, strides=[160, 1, 1, 1], requires_grad=1, device=cuda:0),\n",
      "      %layers.14.conv2.weight : Float(160, 1, 3, 3, strides=[9, 9, 3, 1], requires_grad=1, device=cuda:0),\n",
      "      %layers.14.conv3.weight : Float(160, 160, 1, 1, strides=[160, 1, 1, 1], requires_grad=1, device=cuda:0),\n",
      "      %layers.15.conv1.weight : Float(160, 160, 1, 1, strides=[160, 1, 1, 1], requires_grad=1, device=cuda:0),\n",
      "      %layers.15.conv2.weight : Float(160, 1, 3, 3, strides=[9, 9, 3, 1], requires_grad=1, device=cuda:0),\n",
      "      %layers.15.conv3.weight : Float(160, 160, 1, 1, strides=[160, 1, 1, 1], requires_grad=1, device=cuda:0),\n",
      "      %layers.16.conv1.weight : Float(160, 160, 1, 1, strides=[160, 1, 1, 1], requires_grad=1, device=cuda:0),\n",
      "      %layers.16.conv2.weight : Float(160, 1, 3, 3, strides=[9, 9, 3, 1], requires_grad=1, device=cuda:0),\n",
      "      %layers.16.conv3.weight : Float(320, 160, 1, 1, strides=[160, 1, 1, 1], requires_grad=1, device=cuda:0),\n",
      "      %layers.16.shortcut.0.weight : Float(320, 160, 1, 1, strides=[160, 1, 1, 1], requires_grad=1, device=cuda:0),\n",
      "      %conv2.weight : Float(1280, 320, 1, 1, strides=[320, 1, 1, 1], requires_grad=1, device=cuda:0),\n",
      "      %linear.weight : Float(8, 3840, strides=[3840, 1], requires_grad=1, device=cuda:0),\n",
      "      %linear.bias : Float(8, strides=[1], requires_grad=1, device=cuda:0)):\n",
      "  %/conv1/Conv_output_0 : Float(1, 32, 8, 24, strides=[6144, 192, 24, 1], requires_grad=0, device=cuda:0) = onnx::Conv[dilations=[1, 1], group=1, kernel_shape=[3, 3], pads=[1, 1, 1, 1], strides=[1, 1], onnx_name=\"/conv1/Conv\"](%input.1, %conv1.weight), scope: models.mobilenetv2_no_bn.MobileNetV2::/torch.nn.modules.conv.Conv2d::conv1 # /home/studenta/anaconda3/envs/sEMG/lib/python3.9/site-packages/torch/nn/modules/conv.py:459:0\n",
      "  %/Relu_output_0 : Float(1, 32, 8, 24, strides=[6144, 192, 24, 1], requires_grad=1, device=cuda:0) = onnx::Relu[onnx_name=\"/Relu\"](%/conv1/Conv_output_0), scope: models.mobilenetv2_no_bn.MobileNetV2:: # /home/studenta/anaconda3/envs/sEMG/lib/python3.9/site-packages/torch/nn/functional.py:1457:0\n",
      "  %/layers/layers.0/conv1/Conv_output_0 : Float(1, 32, 8, 24, strides=[6144, 192, 24, 1], requires_grad=0, device=cuda:0) = onnx::Conv[dilations=[1, 1], group=1, kernel_shape=[1, 1], pads=[0, 0, 0, 0], strides=[1, 1], onnx_name=\"/layers/layers.0/conv1/Conv\"](%/Relu_output_0, %layers.0.conv1.weight), scope: models.mobilenetv2_no_bn.MobileNetV2::/torch.nn.modules.container.Sequential::layers/models.mobilenetv2_no_bn.Block::layers.0/torch.nn.modules.conv.Conv2d::conv1 # /home/studenta/anaconda3/envs/sEMG/lib/python3.9/site-packages/torch/nn/modules/conv.py:459:0\n",
      "  %/layers/layers.0/Relu_output_0 : Float(1, 32, 8, 24, strides=[6144, 192, 24, 1], requires_grad=1, device=cuda:0) = onnx::Relu[onnx_name=\"/layers/layers.0/Relu\"](%/layers/layers.0/conv1/Conv_output_0), scope: models.mobilenetv2_no_bn.MobileNetV2::/torch.nn.modules.container.Sequential::layers/models.mobilenetv2_no_bn.Block::layers.0 # /home/studenta/anaconda3/envs/sEMG/lib/python3.9/site-packages/torch/nn/functional.py:1457:0\n",
      "  %/layers/layers.0/conv2/Conv_output_0 : Float(1, 32, 8, 24, strides=[6144, 192, 24, 1], requires_grad=0, device=cuda:0) = onnx::Conv[dilations=[1, 1], group=32, kernel_shape=[3, 3], pads=[1, 1, 1, 1], strides=[1, 1], onnx_name=\"/layers/layers.0/conv2/Conv\"](%/layers/layers.0/Relu_output_0, %layers.0.conv2.weight), scope: models.mobilenetv2_no_bn.MobileNetV2::/torch.nn.modules.container.Sequential::layers/models.mobilenetv2_no_bn.Block::layers.0/torch.nn.modules.conv.Conv2d::conv2 # /home/studenta/anaconda3/envs/sEMG/lib/python3.9/site-packages/torch/nn/modules/conv.py:459:0\n",
      "  %/layers/layers.0/Relu_1_output_0 : Float(1, 32, 8, 24, strides=[6144, 192, 24, 1], requires_grad=1, device=cuda:0) = onnx::Relu[onnx_name=\"/layers/layers.0/Relu_1\"](%/layers/layers.0/conv2/Conv_output_0), scope: models.mobilenetv2_no_bn.MobileNetV2::/torch.nn.modules.container.Sequential::layers/models.mobilenetv2_no_bn.Block::layers.0 # /home/studenta/anaconda3/envs/sEMG/lib/python3.9/site-packages/torch/nn/functional.py:1457:0\n",
      "  %/layers/layers.0/conv3/Conv_output_0 : Float(1, 16, 8, 24, strides=[3072, 192, 24, 1], requires_grad=0, device=cuda:0) = onnx::Conv[dilations=[1, 1], group=1, kernel_shape=[1, 1], pads=[0, 0, 0, 0], strides=[1, 1], onnx_name=\"/layers/layers.0/conv3/Conv\"](%/layers/layers.0/Relu_1_output_0, %layers.0.conv3.weight), scope: models.mobilenetv2_no_bn.MobileNetV2::/torch.nn.modules.container.Sequential::layers/models.mobilenetv2_no_bn.Block::layers.0/torch.nn.modules.conv.Conv2d::conv3 # /home/studenta/anaconda3/envs/sEMG/lib/python3.9/site-packages/torch/nn/modules/conv.py:459:0\n",
      "  %/layers/layers.0/shortcut/shortcut.0/Conv_output_0 : Float(1, 16, 8, 24, strides=[3072, 192, 24, 1], requires_grad=0, device=cuda:0) = onnx::Conv[dilations=[1, 1], group=1, kernel_shape=[1, 1], pads=[0, 0, 0, 0], strides=[1, 1], onnx_name=\"/layers/layers.0/shortcut/shortcut.0/Conv\"](%/Relu_output_0, %layers.0.shortcut.0.weight), scope: models.mobilenetv2_no_bn.MobileNetV2::/torch.nn.modules.container.Sequential::layers/models.mobilenetv2_no_bn.Block::layers.0/torch.nn.modules.container.Sequential::shortcut/torch.nn.modules.conv.Conv2d::shortcut.0 # /home/studenta/anaconda3/envs/sEMG/lib/python3.9/site-packages/torch/nn/modules/conv.py:459:0\n",
      "  %/layers/layers.0/Add_output_0 : Float(1, 16, 8, 24, strides=[3072, 192, 24, 1], requires_grad=1, device=cuda:0) = onnx::Add[onnx_name=\"/layers/layers.0/Add\"](%/layers/layers.0/conv3/Conv_output_0, %/layers/layers.0/shortcut/shortcut.0/Conv_output_0), scope: models.mobilenetv2_no_bn.MobileNetV2::/torch.nn.modules.container.Sequential::layers/models.mobilenetv2_no_bn.Block::layers.0 # /home/studenta/Documents/CNN-HD-sEMG-Classifier/models/mobilenetv2_no_bn.py:39:0\n",
      "  %/layers/layers.1/conv1/Conv_output_0 : Float(1, 16, 8, 24, strides=[3072, 192, 24, 1], requires_grad=0, device=cuda:0) = onnx::Conv[dilations=[1, 1], group=1, kernel_shape=[1, 1], pads=[0, 0, 0, 0], strides=[1, 1], onnx_name=\"/layers/layers.1/conv1/Conv\"](%/layers/layers.0/Add_output_0, %layers.1.conv1.weight), scope: models.mobilenetv2_no_bn.MobileNetV2::/torch.nn.modules.container.Sequential::layers/models.mobilenetv2_no_bn.Block::layers.1/torch.nn.modules.conv.Conv2d::conv1 # /home/studenta/anaconda3/envs/sEMG/lib/python3.9/site-packages/torch/nn/modules/conv.py:459:0\n",
      "  %/layers/layers.1/Relu_output_0 : Float(1, 16, 8, 24, strides=[3072, 192, 24, 1], requires_grad=1, device=cuda:0) = onnx::Relu[onnx_name=\"/layers/layers.1/Relu\"](%/layers/layers.1/conv1/Conv_output_0), scope: models.mobilenetv2_no_bn.MobileNetV2::/torch.nn.modules.container.Sequential::layers/models.mobilenetv2_no_bn.Block::layers.1 # /home/studenta/anaconda3/envs/sEMG/lib/python3.9/site-packages/torch/nn/functional.py:1457:0\n",
      "  %/layers/layers.1/conv2/Conv_output_0 : Float(1, 16, 8, 24, strides=[3072, 192, 24, 1], requires_grad=0, device=cuda:0) = onnx::Conv[dilations=[1, 1], group=16, kernel_shape=[3, 3], pads=[1, 1, 1, 1], strides=[1, 1], onnx_name=\"/layers/layers.1/conv2/Conv\"](%/layers/layers.1/Relu_output_0, %layers.1.conv2.weight), scope: models.mobilenetv2_no_bn.MobileNetV2::/torch.nn.modules.container.Sequential::layers/models.mobilenetv2_no_bn.Block::layers.1/torch.nn.modules.conv.Conv2d::conv2 # /home/studenta/anaconda3/envs/sEMG/lib/python3.9/site-packages/torch/nn/modules/conv.py:459:0\n",
      "  %/layers/layers.1/Relu_1_output_0 : Float(1, 16, 8, 24, strides=[3072, 192, 24, 1], requires_grad=1, device=cuda:0) = onnx::Relu[onnx_name=\"/layers/layers.1/Relu_1\"](%/layers/layers.1/conv2/Conv_output_0), scope: models.mobilenetv2_no_bn.MobileNetV2::/torch.nn.modules.container.Sequential::layers/models.mobilenetv2_no_bn.Block::layers.1 # /home/studenta/anaconda3/envs/sEMG/lib/python3.9/site-packages/torch/nn/functional.py:1457:0\n",
      "  %/layers/layers.1/conv3/Conv_output_0 : Float(1, 24, 8, 24, strides=[4608, 192, 24, 1], requires_grad=0, device=cuda:0) = onnx::Conv[dilations=[1, 1], group=1, kernel_shape=[1, 1], pads=[0, 0, 0, 0], strides=[1, 1], onnx_name=\"/layers/layers.1/conv3/Conv\"](%/layers/layers.1/Relu_1_output_0, %layers.1.conv3.weight), scope: models.mobilenetv2_no_bn.MobileNetV2::/torch.nn.modules.container.Sequential::layers/models.mobilenetv2_no_bn.Block::layers.1/torch.nn.modules.conv.Conv2d::conv3 # /home/studenta/anaconda3/envs/sEMG/lib/python3.9/site-packages/torch/nn/modules/conv.py:459:0\n",
      "  %/layers/layers.1/shortcut/shortcut.0/Conv_output_0 : Float(1, 24, 8, 24, strides=[4608, 192, 24, 1], requires_grad=0, device=cuda:0) = onnx::Conv[dilations=[1, 1], group=1, kernel_shape=[1, 1], pads=[0, 0, 0, 0], strides=[1, 1], onnx_name=\"/layers/layers.1/shortcut/shortcut.0/Conv\"](%/layers/layers.0/Add_output_0, %layers.1.shortcut.0.weight), scope: models.mobilenetv2_no_bn.MobileNetV2::/torch.nn.modules.container.Sequential::layers/models.mobilenetv2_no_bn.Block::layers.1/torch.nn.modules.container.Sequential::shortcut/torch.nn.modules.conv.Conv2d::shortcut.0 # /home/studenta/anaconda3/envs/sEMG/lib/python3.9/site-packages/torch/nn/modules/conv.py:459:0\n",
      "  %/layers/layers.1/Add_output_0 : Float(1, 24, 8, 24, strides=[4608, 192, 24, 1], requires_grad=1, device=cuda:0) = onnx::Add[onnx_name=\"/layers/layers.1/Add\"](%/layers/layers.1/conv3/Conv_output_0, %/layers/layers.1/shortcut/shortcut.0/Conv_output_0), scope: models.mobilenetv2_no_bn.MobileNetV2::/torch.nn.modules.container.Sequential::layers/models.mobilenetv2_no_bn.Block::layers.1 # /home/studenta/Documents/CNN-HD-sEMG-Classifier/models/mobilenetv2_no_bn.py:39:0\n",
      "  %/layers/layers.2/conv1/Conv_output_0 : Float(1, 24, 8, 24, strides=[4608, 192, 24, 1], requires_grad=0, device=cuda:0) = onnx::Conv[dilations=[1, 1], group=1, kernel_shape=[1, 1], pads=[0, 0, 0, 0], strides=[1, 1], onnx_name=\"/layers/layers.2/conv1/Conv\"](%/layers/layers.1/Add_output_0, %layers.2.conv1.weight), scope: models.mobilenetv2_no_bn.MobileNetV2::/torch.nn.modules.container.Sequential::layers/models.mobilenetv2_no_bn.Block::layers.2/torch.nn.modules.conv.Conv2d::conv1 # /home/studenta/anaconda3/envs/sEMG/lib/python3.9/site-packages/torch/nn/modules/conv.py:459:0\n",
      "  %/layers/layers.2/Relu_output_0 : Float(1, 24, 8, 24, strides=[4608, 192, 24, 1], requires_grad=1, device=cuda:0) = onnx::Relu[onnx_name=\"/layers/layers.2/Relu\"](%/layers/layers.2/conv1/Conv_output_0), scope: models.mobilenetv2_no_bn.MobileNetV2::/torch.nn.modules.container.Sequential::layers/models.mobilenetv2_no_bn.Block::layers.2 # /home/studenta/anaconda3/envs/sEMG/lib/python3.9/site-packages/torch/nn/functional.py:1457:0\n",
      "  %/layers/layers.2/conv2/Conv_output_0 : Float(1, 24, 8, 24, strides=[4608, 192, 24, 1], requires_grad=0, device=cuda:0) = onnx::Conv[dilations=[1, 1], group=24, kernel_shape=[3, 3], pads=[1, 1, 1, 1], strides=[1, 1], onnx_name=\"/layers/layers.2/conv2/Conv\"](%/layers/layers.2/Relu_output_0, %layers.2.conv2.weight), scope: models.mobilenetv2_no_bn.MobileNetV2::/torch.nn.modules.container.Sequential::layers/models.mobilenetv2_no_bn.Block::layers.2/torch.nn.modules.conv.Conv2d::conv2 # /home/studenta/anaconda3/envs/sEMG/lib/python3.9/site-packages/torch/nn/modules/conv.py:459:0\n",
      "  %/layers/layers.2/Relu_1_output_0 : Float(1, 24, 8, 24, strides=[4608, 192, 24, 1], requires_grad=1, device=cuda:0) = onnx::Relu[onnx_name=\"/layers/layers.2/Relu_1\"](%/layers/layers.2/conv2/Conv_output_0), scope: models.mobilenetv2_no_bn.MobileNetV2::/torch.nn.modules.container.Sequential::layers/models.mobilenetv2_no_bn.Block::layers.2 # /home/studenta/anaconda3/envs/sEMG/lib/python3.9/site-packages/torch/nn/functional.py:1457:0\n",
      "  %/layers/layers.2/conv3/Conv_output_0 : Float(1, 24, 8, 24, strides=[4608, 192, 24, 1], requires_grad=0, device=cuda:0) = onnx::Conv[dilations=[1, 1], group=1, kernel_shape=[1, 1], pads=[0, 0, 0, 0], strides=[1, 1], onnx_name=\"/layers/layers.2/conv3/Conv\"](%/layers/layers.2/Relu_1_output_0, %layers.2.conv3.weight), scope: models.mobilenetv2_no_bn.MobileNetV2::/torch.nn.modules.container.Sequential::layers/models.mobilenetv2_no_bn.Block::layers.2/torch.nn.modules.conv.Conv2d::conv3 # /home/studenta/anaconda3/envs/sEMG/lib/python3.9/site-packages/torch/nn/modules/conv.py:459:0\n",
      "  %/layers/layers.2/Add_output_0 : Float(1, 24, 8, 24, strides=[4608, 192, 24, 1], requires_grad=1, device=cuda:0) = onnx::Add[onnx_name=\"/layers/layers.2/Add\"](%/layers/layers.2/conv3/Conv_output_0, %/layers/layers.1/Add_output_0), scope: models.mobilenetv2_no_bn.MobileNetV2::/torch.nn.modules.container.Sequential::layers/models.mobilenetv2_no_bn.Block::layers.2 # /home/studenta/Documents/CNN-HD-sEMG-Classifier/models/mobilenetv2_no_bn.py:39:0\n",
      "  %/layers/layers.3/conv1/Conv_output_0 : Float(1, 24, 8, 24, strides=[4608, 192, 24, 1], requires_grad=0, device=cuda:0) = onnx::Conv[dilations=[1, 1], group=1, kernel_shape=[1, 1], pads=[0, 0, 0, 0], strides=[1, 1], onnx_name=\"/layers/layers.3/conv1/Conv\"](%/layers/layers.2/Add_output_0, %layers.3.conv1.weight), scope: models.mobilenetv2_no_bn.MobileNetV2::/torch.nn.modules.container.Sequential::layers/models.mobilenetv2_no_bn.Block::layers.3/torch.nn.modules.conv.Conv2d::conv1 # /home/studenta/anaconda3/envs/sEMG/lib/python3.9/site-packages/torch/nn/modules/conv.py:459:0\n",
      "  %/layers/layers.3/Relu_output_0 : Float(1, 24, 8, 24, strides=[4608, 192, 24, 1], requires_grad=1, device=cuda:0) = onnx::Relu[onnx_name=\"/layers/layers.3/Relu\"](%/layers/layers.3/conv1/Conv_output_0), scope: models.mobilenetv2_no_bn.MobileNetV2::/torch.nn.modules.container.Sequential::layers/models.mobilenetv2_no_bn.Block::layers.3 # /home/studenta/anaconda3/envs/sEMG/lib/python3.9/site-packages/torch/nn/functional.py:1457:0\n",
      "  %/layers/layers.3/conv2/Conv_output_0 : Float(1, 24, 4, 12, strides=[1152, 48, 12, 1], requires_grad=0, device=cuda:0) = onnx::Conv[dilations=[1, 1], group=24, kernel_shape=[3, 3], pads=[1, 1, 1, 1], strides=[2, 2], onnx_name=\"/layers/layers.3/conv2/Conv\"](%/layers/layers.3/Relu_output_0, %layers.3.conv2.weight), scope: models.mobilenetv2_no_bn.MobileNetV2::/torch.nn.modules.container.Sequential::layers/models.mobilenetv2_no_bn.Block::layers.3/torch.nn.modules.conv.Conv2d::conv2 # /home/studenta/anaconda3/envs/sEMG/lib/python3.9/site-packages/torch/nn/modules/conv.py:459:0\n",
      "  %/layers/layers.3/Relu_1_output_0 : Float(1, 24, 4, 12, strides=[1152, 48, 12, 1], requires_grad=1, device=cuda:0) = onnx::Relu[onnx_name=\"/layers/layers.3/Relu_1\"](%/layers/layers.3/conv2/Conv_output_0), scope: models.mobilenetv2_no_bn.MobileNetV2::/torch.nn.modules.container.Sequential::layers/models.mobilenetv2_no_bn.Block::layers.3 # /home/studenta/anaconda3/envs/sEMG/lib/python3.9/site-packages/torch/nn/functional.py:1457:0\n",
      "  %/layers/layers.3/conv3/Conv_output_0 : Float(1, 32, 4, 12, strides=[1536, 48, 12, 1], requires_grad=0, device=cuda:0) = onnx::Conv[dilations=[1, 1], group=1, kernel_shape=[1, 1], pads=[0, 0, 0, 0], strides=[1, 1], onnx_name=\"/layers/layers.3/conv3/Conv\"](%/layers/layers.3/Relu_1_output_0, %layers.3.conv3.weight), scope: models.mobilenetv2_no_bn.MobileNetV2::/torch.nn.modules.container.Sequential::layers/models.mobilenetv2_no_bn.Block::layers.3/torch.nn.modules.conv.Conv2d::conv3 # /home/studenta/anaconda3/envs/sEMG/lib/python3.9/site-packages/torch/nn/modules/conv.py:459:0\n",
      "  %/layers/layers.4/conv1/Conv_output_0 : Float(1, 32, 4, 12, strides=[1536, 48, 12, 1], requires_grad=0, device=cuda:0) = onnx::Conv[dilations=[1, 1], group=1, kernel_shape=[1, 1], pads=[0, 0, 0, 0], strides=[1, 1], onnx_name=\"/layers/layers.4/conv1/Conv\"](%/layers/layers.3/conv3/Conv_output_0, %layers.4.conv1.weight), scope: models.mobilenetv2_no_bn.MobileNetV2::/torch.nn.modules.container.Sequential::layers/models.mobilenetv2_no_bn.Block::layers.4/torch.nn.modules.conv.Conv2d::conv1 # /home/studenta/anaconda3/envs/sEMG/lib/python3.9/site-packages/torch/nn/modules/conv.py:459:0\n",
      "  %/layers/layers.4/Relu_output_0 : Float(1, 32, 4, 12, strides=[1536, 48, 12, 1], requires_grad=1, device=cuda:0) = onnx::Relu[onnx_name=\"/layers/layers.4/Relu\"](%/layers/layers.4/conv1/Conv_output_0), scope: models.mobilenetv2_no_bn.MobileNetV2::/torch.nn.modules.container.Sequential::layers/models.mobilenetv2_no_bn.Block::layers.4 # /home/studenta/anaconda3/envs/sEMG/lib/python3.9/site-packages/torch/nn/functional.py:1457:0\n",
      "  %/layers/layers.4/conv2/Conv_output_0 : Float(1, 32, 4, 12, strides=[1536, 48, 12, 1], requires_grad=0, device=cuda:0) = onnx::Conv[dilations=[1, 1], group=32, kernel_shape=[3, 3], pads=[1, 1, 1, 1], strides=[1, 1], onnx_name=\"/layers/layers.4/conv2/Conv\"](%/layers/layers.4/Relu_output_0, %layers.4.conv2.weight), scope: models.mobilenetv2_no_bn.MobileNetV2::/torch.nn.modules.container.Sequential::layers/models.mobilenetv2_no_bn.Block::layers.4/torch.nn.modules.conv.Conv2d::conv2 # /home/studenta/anaconda3/envs/sEMG/lib/python3.9/site-packages/torch/nn/modules/conv.py:459:0\n",
      "  %/layers/layers.4/Relu_1_output_0 : Float(1, 32, 4, 12, strides=[1536, 48, 12, 1], requires_grad=1, device=cuda:0) = onnx::Relu[onnx_name=\"/layers/layers.4/Relu_1\"](%/layers/layers.4/conv2/Conv_output_0), scope: models.mobilenetv2_no_bn.MobileNetV2::/torch.nn.modules.container.Sequential::layers/models.mobilenetv2_no_bn.Block::layers.4 # /home/studenta/anaconda3/envs/sEMG/lib/python3.9/site-packages/torch/nn/functional.py:1457:0\n",
      "  %/layers/layers.4/conv3/Conv_output_0 : Float(1, 32, 4, 12, strides=[1536, 48, 12, 1], requires_grad=0, device=cuda:0) = onnx::Conv[dilations=[1, 1], group=1, kernel_shape=[1, 1], pads=[0, 0, 0, 0], strides=[1, 1], onnx_name=\"/layers/layers.4/conv3/Conv\"](%/layers/layers.4/Relu_1_output_0, %layers.4.conv3.weight), scope: models.mobilenetv2_no_bn.MobileNetV2::/torch.nn.modules.container.Sequential::layers/models.mobilenetv2_no_bn.Block::layers.4/torch.nn.modules.conv.Conv2d::conv3 # /home/studenta/anaconda3/envs/sEMG/lib/python3.9/site-packages/torch/nn/modules/conv.py:459:0\n",
      "  %/layers/layers.4/Add_output_0 : Float(1, 32, 4, 12, strides=[1536, 48, 12, 1], requires_grad=1, device=cuda:0) = onnx::Add[onnx_name=\"/layers/layers.4/Add\"](%/layers/layers.4/conv3/Conv_output_0, %/layers/layers.3/conv3/Conv_output_0), scope: models.mobilenetv2_no_bn.MobileNetV2::/torch.nn.modules.container.Sequential::layers/models.mobilenetv2_no_bn.Block::layers.4 # /home/studenta/Documents/CNN-HD-sEMG-Classifier/models/mobilenetv2_no_bn.py:39:0\n",
      "  %/layers/layers.5/conv1/Conv_output_0 : Float(1, 32, 4, 12, strides=[1536, 48, 12, 1], requires_grad=0, device=cuda:0) = onnx::Conv[dilations=[1, 1], group=1, kernel_shape=[1, 1], pads=[0, 0, 0, 0], strides=[1, 1], onnx_name=\"/layers/layers.5/conv1/Conv\"](%/layers/layers.4/Add_output_0, %layers.5.conv1.weight), scope: models.mobilenetv2_no_bn.MobileNetV2::/torch.nn.modules.container.Sequential::layers/models.mobilenetv2_no_bn.Block::layers.5/torch.nn.modules.conv.Conv2d::conv1 # /home/studenta/anaconda3/envs/sEMG/lib/python3.9/site-packages/torch/nn/modules/conv.py:459:0\n",
      "  %/layers/layers.5/Relu_output_0 : Float(1, 32, 4, 12, strides=[1536, 48, 12, 1], requires_grad=1, device=cuda:0) = onnx::Relu[onnx_name=\"/layers/layers.5/Relu\"](%/layers/layers.5/conv1/Conv_output_0), scope: models.mobilenetv2_no_bn.MobileNetV2::/torch.nn.modules.container.Sequential::layers/models.mobilenetv2_no_bn.Block::layers.5 # /home/studenta/anaconda3/envs/sEMG/lib/python3.9/site-packages/torch/nn/functional.py:1457:0\n",
      "  %/layers/layers.5/conv2/Conv_output_0 : Float(1, 32, 4, 12, strides=[1536, 48, 12, 1], requires_grad=0, device=cuda:0) = onnx::Conv[dilations=[1, 1], group=32, kernel_shape=[3, 3], pads=[1, 1, 1, 1], strides=[1, 1], onnx_name=\"/layers/layers.5/conv2/Conv\"](%/layers/layers.5/Relu_output_0, %layers.5.conv2.weight), scope: models.mobilenetv2_no_bn.MobileNetV2::/torch.nn.modules.container.Sequential::layers/models.mobilenetv2_no_bn.Block::layers.5/torch.nn.modules.conv.Conv2d::conv2 # /home/studenta/anaconda3/envs/sEMG/lib/python3.9/site-packages/torch/nn/modules/conv.py:459:0\n",
      "  %/layers/layers.5/Relu_1_output_0 : Float(1, 32, 4, 12, strides=[1536, 48, 12, 1], requires_grad=1, device=cuda:0) = onnx::Relu[onnx_name=\"/layers/layers.5/Relu_1\"](%/layers/layers.5/conv2/Conv_output_0), scope: models.mobilenetv2_no_bn.MobileNetV2::/torch.nn.modules.container.Sequential::layers/models.mobilenetv2_no_bn.Block::layers.5 # /home/studenta/anaconda3/envs/sEMG/lib/python3.9/site-packages/torch/nn/functional.py:1457:0\n",
      "  %/layers/layers.5/conv3/Conv_output_0 : Float(1, 32, 4, 12, strides=[1536, 48, 12, 1], requires_grad=0, device=cuda:0) = onnx::Conv[dilations=[1, 1], group=1, kernel_shape=[1, 1], pads=[0, 0, 0, 0], strides=[1, 1], onnx_name=\"/layers/layers.5/conv3/Conv\"](%/layers/layers.5/Relu_1_output_0, %layers.5.conv3.weight), scope: models.mobilenetv2_no_bn.MobileNetV2::/torch.nn.modules.container.Sequential::layers/models.mobilenetv2_no_bn.Block::layers.5/torch.nn.modules.conv.Conv2d::conv3 # /home/studenta/anaconda3/envs/sEMG/lib/python3.9/site-packages/torch/nn/modules/conv.py:459:0\n",
      "  %/layers/layers.5/Add_output_0 : Float(1, 32, 4, 12, strides=[1536, 48, 12, 1], requires_grad=1, device=cuda:0) = onnx::Add[onnx_name=\"/layers/layers.5/Add\"](%/layers/layers.5/conv3/Conv_output_0, %/layers/layers.4/Add_output_0), scope: models.mobilenetv2_no_bn.MobileNetV2::/torch.nn.modules.container.Sequential::layers/models.mobilenetv2_no_bn.Block::layers.5 # /home/studenta/Documents/CNN-HD-sEMG-Classifier/models/mobilenetv2_no_bn.py:39:0\n",
      "  %/layers/layers.6/conv1/Conv_output_0 : Float(1, 32, 4, 12, strides=[1536, 48, 12, 1], requires_grad=0, device=cuda:0) = onnx::Conv[dilations=[1, 1], group=1, kernel_shape=[1, 1], pads=[0, 0, 0, 0], strides=[1, 1], onnx_name=\"/layers/layers.6/conv1/Conv\"](%/layers/layers.5/Add_output_0, %layers.6.conv1.weight), scope: models.mobilenetv2_no_bn.MobileNetV2::/torch.nn.modules.container.Sequential::layers/models.mobilenetv2_no_bn.Block::layers.6/torch.nn.modules.conv.Conv2d::conv1 # /home/studenta/anaconda3/envs/sEMG/lib/python3.9/site-packages/torch/nn/modules/conv.py:459:0\n",
      "  %/layers/layers.6/Relu_output_0 : Float(1, 32, 4, 12, strides=[1536, 48, 12, 1], requires_grad=1, device=cuda:0) = onnx::Relu[onnx_name=\"/layers/layers.6/Relu\"](%/layers/layers.6/conv1/Conv_output_0), scope: models.mobilenetv2_no_bn.MobileNetV2::/torch.nn.modules.container.Sequential::layers/models.mobilenetv2_no_bn.Block::layers.6 # /home/studenta/anaconda3/envs/sEMG/lib/python3.9/site-packages/torch/nn/functional.py:1457:0\n",
      "  %/layers/layers.6/conv2/Conv_output_0 : Float(1, 32, 2, 6, strides=[384, 12, 6, 1], requires_grad=0, device=cuda:0) = onnx::Conv[dilations=[1, 1], group=32, kernel_shape=[3, 3], pads=[1, 1, 1, 1], strides=[2, 2], onnx_name=\"/layers/layers.6/conv2/Conv\"](%/layers/layers.6/Relu_output_0, %layers.6.conv2.weight), scope: models.mobilenetv2_no_bn.MobileNetV2::/torch.nn.modules.container.Sequential::layers/models.mobilenetv2_no_bn.Block::layers.6/torch.nn.modules.conv.Conv2d::conv2 # /home/studenta/anaconda3/envs/sEMG/lib/python3.9/site-packages/torch/nn/modules/conv.py:459:0\n",
      "  %/layers/layers.6/Relu_1_output_0 : Float(1, 32, 2, 6, strides=[384, 12, 6, 1], requires_grad=1, device=cuda:0) = onnx::Relu[onnx_name=\"/layers/layers.6/Relu_1\"](%/layers/layers.6/conv2/Conv_output_0), scope: models.mobilenetv2_no_bn.MobileNetV2::/torch.nn.modules.container.Sequential::layers/models.mobilenetv2_no_bn.Block::layers.6 # /home/studenta/anaconda3/envs/sEMG/lib/python3.9/site-packages/torch/nn/functional.py:1457:0\n",
      "  %/layers/layers.6/conv3/Conv_output_0 : Float(1, 64, 2, 6, strides=[768, 12, 6, 1], requires_grad=0, device=cuda:0) = onnx::Conv[dilations=[1, 1], group=1, kernel_shape=[1, 1], pads=[0, 0, 0, 0], strides=[1, 1], onnx_name=\"/layers/layers.6/conv3/Conv\"](%/layers/layers.6/Relu_1_output_0, %layers.6.conv3.weight), scope: models.mobilenetv2_no_bn.MobileNetV2::/torch.nn.modules.container.Sequential::layers/models.mobilenetv2_no_bn.Block::layers.6/torch.nn.modules.conv.Conv2d::conv3 # /home/studenta/anaconda3/envs/sEMG/lib/python3.9/site-packages/torch/nn/modules/conv.py:459:0\n",
      "  %/layers/layers.7/conv1/Conv_output_0 : Float(1, 64, 2, 6, strides=[768, 12, 6, 1], requires_grad=0, device=cuda:0) = onnx::Conv[dilations=[1, 1], group=1, kernel_shape=[1, 1], pads=[0, 0, 0, 0], strides=[1, 1], onnx_name=\"/layers/layers.7/conv1/Conv\"](%/layers/layers.6/conv3/Conv_output_0, %layers.7.conv1.weight), scope: models.mobilenetv2_no_bn.MobileNetV2::/torch.nn.modules.container.Sequential::layers/models.mobilenetv2_no_bn.Block::layers.7/torch.nn.modules.conv.Conv2d::conv1 # /home/studenta/anaconda3/envs/sEMG/lib/python3.9/site-packages/torch/nn/modules/conv.py:459:0\n",
      "  %/layers/layers.7/Relu_output_0 : Float(1, 64, 2, 6, strides=[768, 12, 6, 1], requires_grad=1, device=cuda:0) = onnx::Relu[onnx_name=\"/layers/layers.7/Relu\"](%/layers/layers.7/conv1/Conv_output_0), scope: models.mobilenetv2_no_bn.MobileNetV2::/torch.nn.modules.container.Sequential::layers/models.mobilenetv2_no_bn.Block::layers.7 # /home/studenta/anaconda3/envs/sEMG/lib/python3.9/site-packages/torch/nn/functional.py:1457:0\n",
      "  %/layers/layers.7/conv2/Conv_output_0 : Float(1, 64, 2, 6, strides=[768, 12, 6, 1], requires_grad=0, device=cuda:0) = onnx::Conv[dilations=[1, 1], group=64, kernel_shape=[3, 3], pads=[1, 1, 1, 1], strides=[1, 1], onnx_name=\"/layers/layers.7/conv2/Conv\"](%/layers/layers.7/Relu_output_0, %layers.7.conv2.weight), scope: models.mobilenetv2_no_bn.MobileNetV2::/torch.nn.modules.container.Sequential::layers/models.mobilenetv2_no_bn.Block::layers.7/torch.nn.modules.conv.Conv2d::conv2 # /home/studenta/anaconda3/envs/sEMG/lib/python3.9/site-packages/torch/nn/modules/conv.py:459:0\n",
      "  %/layers/layers.7/Relu_1_output_0 : Float(1, 64, 2, 6, strides=[768, 12, 6, 1], requires_grad=1, device=cuda:0) = onnx::Relu[onnx_name=\"/layers/layers.7/Relu_1\"](%/layers/layers.7/conv2/Conv_output_0), scope: models.mobilenetv2_no_bn.MobileNetV2::/torch.nn.modules.container.Sequential::layers/models.mobilenetv2_no_bn.Block::layers.7 # /home/studenta/anaconda3/envs/sEMG/lib/python3.9/site-packages/torch/nn/functional.py:1457:0\n",
      "  %/layers/layers.7/conv3/Conv_output_0 : Float(1, 64, 2, 6, strides=[768, 12, 6, 1], requires_grad=0, device=cuda:0) = onnx::Conv[dilations=[1, 1], group=1, kernel_shape=[1, 1], pads=[0, 0, 0, 0], strides=[1, 1], onnx_name=\"/layers/layers.7/conv3/Conv\"](%/layers/layers.7/Relu_1_output_0, %layers.7.conv3.weight), scope: models.mobilenetv2_no_bn.MobileNetV2::/torch.nn.modules.container.Sequential::layers/models.mobilenetv2_no_bn.Block::layers.7/torch.nn.modules.conv.Conv2d::conv3 # /home/studenta/anaconda3/envs/sEMG/lib/python3.9/site-packages/torch/nn/modules/conv.py:459:0\n",
      "  %/layers/layers.7/Add_output_0 : Float(1, 64, 2, 6, strides=[768, 12, 6, 1], requires_grad=1, device=cuda:0) = onnx::Add[onnx_name=\"/layers/layers.7/Add\"](%/layers/layers.7/conv3/Conv_output_0, %/layers/layers.6/conv3/Conv_output_0), scope: models.mobilenetv2_no_bn.MobileNetV2::/torch.nn.modules.container.Sequential::layers/models.mobilenetv2_no_bn.Block::layers.7 # /home/studenta/Documents/CNN-HD-sEMG-Classifier/models/mobilenetv2_no_bn.py:39:0\n",
      "  %/layers/layers.8/conv1/Conv_output_0 : Float(1, 64, 2, 6, strides=[768, 12, 6, 1], requires_grad=0, device=cuda:0) = onnx::Conv[dilations=[1, 1], group=1, kernel_shape=[1, 1], pads=[0, 0, 0, 0], strides=[1, 1], onnx_name=\"/layers/layers.8/conv1/Conv\"](%/layers/layers.7/Add_output_0, %layers.8.conv1.weight), scope: models.mobilenetv2_no_bn.MobileNetV2::/torch.nn.modules.container.Sequential::layers/models.mobilenetv2_no_bn.Block::layers.8/torch.nn.modules.conv.Conv2d::conv1 # /home/studenta/anaconda3/envs/sEMG/lib/python3.9/site-packages/torch/nn/modules/conv.py:459:0\n",
      "  %/layers/layers.8/Relu_output_0 : Float(1, 64, 2, 6, strides=[768, 12, 6, 1], requires_grad=1, device=cuda:0) = onnx::Relu[onnx_name=\"/layers/layers.8/Relu\"](%/layers/layers.8/conv1/Conv_output_0), scope: models.mobilenetv2_no_bn.MobileNetV2::/torch.nn.modules.container.Sequential::layers/models.mobilenetv2_no_bn.Block::layers.8 # /home/studenta/anaconda3/envs/sEMG/lib/python3.9/site-packages/torch/nn/functional.py:1457:0\n",
      "  %/layers/layers.8/conv2/Conv_output_0 : Float(1, 64, 2, 6, strides=[768, 12, 6, 1], requires_grad=0, device=cuda:0) = onnx::Conv[dilations=[1, 1], group=64, kernel_shape=[3, 3], pads=[1, 1, 1, 1], strides=[1, 1], onnx_name=\"/layers/layers.8/conv2/Conv\"](%/layers/layers.8/Relu_output_0, %layers.8.conv2.weight), scope: models.mobilenetv2_no_bn.MobileNetV2::/torch.nn.modules.container.Sequential::layers/models.mobilenetv2_no_bn.Block::layers.8/torch.nn.modules.conv.Conv2d::conv2 # /home/studenta/anaconda3/envs/sEMG/lib/python3.9/site-packages/torch/nn/modules/conv.py:459:0\n",
      "  %/layers/layers.8/Relu_1_output_0 : Float(1, 64, 2, 6, strides=[768, 12, 6, 1], requires_grad=1, device=cuda:0) = onnx::Relu[onnx_name=\"/layers/layers.8/Relu_1\"](%/layers/layers.8/conv2/Conv_output_0), scope: models.mobilenetv2_no_bn.MobileNetV2::/torch.nn.modules.container.Sequential::layers/models.mobilenetv2_no_bn.Block::layers.8 # /home/studenta/anaconda3/envs/sEMG/lib/python3.9/site-packages/torch/nn/functional.py:1457:0\n",
      "  %/layers/layers.8/conv3/Conv_output_0 : Float(1, 64, 2, 6, strides=[768, 12, 6, 1], requires_grad=0, device=cuda:0) = onnx::Conv[dilations=[1, 1], group=1, kernel_shape=[1, 1], pads=[0, 0, 0, 0], strides=[1, 1], onnx_name=\"/layers/layers.8/conv3/Conv\"](%/layers/layers.8/Relu_1_output_0, %layers.8.conv3.weight), scope: models.mobilenetv2_no_bn.MobileNetV2::/torch.nn.modules.container.Sequential::layers/models.mobilenetv2_no_bn.Block::layers.8/torch.nn.modules.conv.Conv2d::conv3 # /home/studenta/anaconda3/envs/sEMG/lib/python3.9/site-packages/torch/nn/modules/conv.py:459:0\n",
      "  %/layers/layers.8/Add_output_0 : Float(1, 64, 2, 6, strides=[768, 12, 6, 1], requires_grad=1, device=cuda:0) = onnx::Add[onnx_name=\"/layers/layers.8/Add\"](%/layers/layers.8/conv3/Conv_output_0, %/layers/layers.7/Add_output_0), scope: models.mobilenetv2_no_bn.MobileNetV2::/torch.nn.modules.container.Sequential::layers/models.mobilenetv2_no_bn.Block::layers.8 # /home/studenta/Documents/CNN-HD-sEMG-Classifier/models/mobilenetv2_no_bn.py:39:0\n",
      "  %/layers/layers.9/conv1/Conv_output_0 : Float(1, 64, 2, 6, strides=[768, 12, 6, 1], requires_grad=0, device=cuda:0) = onnx::Conv[dilations=[1, 1], group=1, kernel_shape=[1, 1], pads=[0, 0, 0, 0], strides=[1, 1], onnx_name=\"/layers/layers.9/conv1/Conv\"](%/layers/layers.8/Add_output_0, %layers.9.conv1.weight), scope: models.mobilenetv2_no_bn.MobileNetV2::/torch.nn.modules.container.Sequential::layers/models.mobilenetv2_no_bn.Block::layers.9/torch.nn.modules.conv.Conv2d::conv1 # /home/studenta/anaconda3/envs/sEMG/lib/python3.9/site-packages/torch/nn/modules/conv.py:459:0\n",
      "  %/layers/layers.9/Relu_output_0 : Float(1, 64, 2, 6, strides=[768, 12, 6, 1], requires_grad=1, device=cuda:0) = onnx::Relu[onnx_name=\"/layers/layers.9/Relu\"](%/layers/layers.9/conv1/Conv_output_0), scope: models.mobilenetv2_no_bn.MobileNetV2::/torch.nn.modules.container.Sequential::layers/models.mobilenetv2_no_bn.Block::layers.9 # /home/studenta/anaconda3/envs/sEMG/lib/python3.9/site-packages/torch/nn/functional.py:1457:0\n",
      "  %/layers/layers.9/conv2/Conv_output_0 : Float(1, 64, 2, 6, strides=[768, 12, 6, 1], requires_grad=0, device=cuda:0) = onnx::Conv[dilations=[1, 1], group=64, kernel_shape=[3, 3], pads=[1, 1, 1, 1], strides=[1, 1], onnx_name=\"/layers/layers.9/conv2/Conv\"](%/layers/layers.9/Relu_output_0, %layers.9.conv2.weight), scope: models.mobilenetv2_no_bn.MobileNetV2::/torch.nn.modules.container.Sequential::layers/models.mobilenetv2_no_bn.Block::layers.9/torch.nn.modules.conv.Conv2d::conv2 # /home/studenta/anaconda3/envs/sEMG/lib/python3.9/site-packages/torch/nn/modules/conv.py:459:0\n",
      "  %/layers/layers.9/Relu_1_output_0 : Float(1, 64, 2, 6, strides=[768, 12, 6, 1], requires_grad=1, device=cuda:0) = onnx::Relu[onnx_name=\"/layers/layers.9/Relu_1\"](%/layers/layers.9/conv2/Conv_output_0), scope: models.mobilenetv2_no_bn.MobileNetV2::/torch.nn.modules.container.Sequential::layers/models.mobilenetv2_no_bn.Block::layers.9 # /home/studenta/anaconda3/envs/sEMG/lib/python3.9/site-packages/torch/nn/functional.py:1457:0\n",
      "  %/layers/layers.9/conv3/Conv_output_0 : Float(1, 64, 2, 6, strides=[768, 12, 6, 1], requires_grad=0, device=cuda:0) = onnx::Conv[dilations=[1, 1], group=1, kernel_shape=[1, 1], pads=[0, 0, 0, 0], strides=[1, 1], onnx_name=\"/layers/layers.9/conv3/Conv\"](%/layers/layers.9/Relu_1_output_0, %layers.9.conv3.weight), scope: models.mobilenetv2_no_bn.MobileNetV2::/torch.nn.modules.container.Sequential::layers/models.mobilenetv2_no_bn.Block::layers.9/torch.nn.modules.conv.Conv2d::conv3 # /home/studenta/anaconda3/envs/sEMG/lib/python3.9/site-packages/torch/nn/modules/conv.py:459:0\n",
      "  %/layers/layers.9/Add_output_0 : Float(1, 64, 2, 6, strides=[768, 12, 6, 1], requires_grad=1, device=cuda:0) = onnx::Add[onnx_name=\"/layers/layers.9/Add\"](%/layers/layers.9/conv3/Conv_output_0, %/layers/layers.8/Add_output_0), scope: models.mobilenetv2_no_bn.MobileNetV2::/torch.nn.modules.container.Sequential::layers/models.mobilenetv2_no_bn.Block::layers.9 # /home/studenta/Documents/CNN-HD-sEMG-Classifier/models/mobilenetv2_no_bn.py:39:0\n",
      "  %/layers/layers.10/conv1/Conv_output_0 : Float(1, 64, 2, 6, strides=[768, 12, 6, 1], requires_grad=0, device=cuda:0) = onnx::Conv[dilations=[1, 1], group=1, kernel_shape=[1, 1], pads=[0, 0, 0, 0], strides=[1, 1], onnx_name=\"/layers/layers.10/conv1/Conv\"](%/layers/layers.9/Add_output_0, %layers.10.conv1.weight), scope: models.mobilenetv2_no_bn.MobileNetV2::/torch.nn.modules.container.Sequential::layers/models.mobilenetv2_no_bn.Block::layers.10/torch.nn.modules.conv.Conv2d::conv1 # /home/studenta/anaconda3/envs/sEMG/lib/python3.9/site-packages/torch/nn/modules/conv.py:459:0\n",
      "  %/layers/layers.10/Relu_output_0 : Float(1, 64, 2, 6, strides=[768, 12, 6, 1], requires_grad=1, device=cuda:0) = onnx::Relu[onnx_name=\"/layers/layers.10/Relu\"](%/layers/layers.10/conv1/Conv_output_0), scope: models.mobilenetv2_no_bn.MobileNetV2::/torch.nn.modules.container.Sequential::layers/models.mobilenetv2_no_bn.Block::layers.10 # /home/studenta/anaconda3/envs/sEMG/lib/python3.9/site-packages/torch/nn/functional.py:1457:0\n",
      "  %/layers/layers.10/conv2/Conv_output_0 : Float(1, 64, 2, 6, strides=[768, 12, 6, 1], requires_grad=0, device=cuda:0) = onnx::Conv[dilations=[1, 1], group=64, kernel_shape=[3, 3], pads=[1, 1, 1, 1], strides=[1, 1], onnx_name=\"/layers/layers.10/conv2/Conv\"](%/layers/layers.10/Relu_output_0, %layers.10.conv2.weight), scope: models.mobilenetv2_no_bn.MobileNetV2::/torch.nn.modules.container.Sequential::layers/models.mobilenetv2_no_bn.Block::layers.10/torch.nn.modules.conv.Conv2d::conv2 # /home/studenta/anaconda3/envs/sEMG/lib/python3.9/site-packages/torch/nn/modules/conv.py:459:0\n",
      "  %/layers/layers.10/Relu_1_output_0 : Float(1, 64, 2, 6, strides=[768, 12, 6, 1], requires_grad=1, device=cuda:0) = onnx::Relu[onnx_name=\"/layers/layers.10/Relu_1\"](%/layers/layers.10/conv2/Conv_output_0), scope: models.mobilenetv2_no_bn.MobileNetV2::/torch.nn.modules.container.Sequential::layers/models.mobilenetv2_no_bn.Block::layers.10 # /home/studenta/anaconda3/envs/sEMG/lib/python3.9/site-packages/torch/nn/functional.py:1457:0\n",
      "  %/layers/layers.10/conv3/Conv_output_0 : Float(1, 96, 2, 6, strides=[1152, 12, 6, 1], requires_grad=0, device=cuda:0) = onnx::Conv[dilations=[1, 1], group=1, kernel_shape=[1, 1], pads=[0, 0, 0, 0], strides=[1, 1], onnx_name=\"/layers/layers.10/conv3/Conv\"](%/layers/layers.10/Relu_1_output_0, %layers.10.conv3.weight), scope: models.mobilenetv2_no_bn.MobileNetV2::/torch.nn.modules.container.Sequential::layers/models.mobilenetv2_no_bn.Block::layers.10/torch.nn.modules.conv.Conv2d::conv3 # /home/studenta/anaconda3/envs/sEMG/lib/python3.9/site-packages/torch/nn/modules/conv.py:459:0\n",
      "  %/layers/layers.10/shortcut/shortcut.0/Conv_output_0 : Float(1, 96, 2, 6, strides=[1152, 12, 6, 1], requires_grad=0, device=cuda:0) = onnx::Conv[dilations=[1, 1], group=1, kernel_shape=[1, 1], pads=[0, 0, 0, 0], strides=[1, 1], onnx_name=\"/layers/layers.10/shortcut/shortcut.0/Conv\"](%/layers/layers.9/Add_output_0, %layers.10.shortcut.0.weight), scope: models.mobilenetv2_no_bn.MobileNetV2::/torch.nn.modules.container.Sequential::layers/models.mobilenetv2_no_bn.Block::layers.10/torch.nn.modules.container.Sequential::shortcut/torch.nn.modules.conv.Conv2d::shortcut.0 # /home/studenta/anaconda3/envs/sEMG/lib/python3.9/site-packages/torch/nn/modules/conv.py:459:0\n",
      "  %/layers/layers.10/Add_output_0 : Float(1, 96, 2, 6, strides=[1152, 12, 6, 1], requires_grad=1, device=cuda:0) = onnx::Add[onnx_name=\"/layers/layers.10/Add\"](%/layers/layers.10/conv3/Conv_output_0, %/layers/layers.10/shortcut/shortcut.0/Conv_output_0), scope: models.mobilenetv2_no_bn.MobileNetV2::/torch.nn.modules.container.Sequential::layers/models.mobilenetv2_no_bn.Block::layers.10 # /home/studenta/Documents/CNN-HD-sEMG-Classifier/models/mobilenetv2_no_bn.py:39:0\n",
      "  %/layers/layers.11/conv1/Conv_output_0 : Float(1, 96, 2, 6, strides=[1152, 12, 6, 1], requires_grad=0, device=cuda:0) = onnx::Conv[dilations=[1, 1], group=1, kernel_shape=[1, 1], pads=[0, 0, 0, 0], strides=[1, 1], onnx_name=\"/layers/layers.11/conv1/Conv\"](%/layers/layers.10/Add_output_0, %layers.11.conv1.weight), scope: models.mobilenetv2_no_bn.MobileNetV2::/torch.nn.modules.container.Sequential::layers/models.mobilenetv2_no_bn.Block::layers.11/torch.nn.modules.conv.Conv2d::conv1 # /home/studenta/anaconda3/envs/sEMG/lib/python3.9/site-packages/torch/nn/modules/conv.py:459:0\n",
      "  %/layers/layers.11/Relu_output_0 : Float(1, 96, 2, 6, strides=[1152, 12, 6, 1], requires_grad=1, device=cuda:0) = onnx::Relu[onnx_name=\"/layers/layers.11/Relu\"](%/layers/layers.11/conv1/Conv_output_0), scope: models.mobilenetv2_no_bn.MobileNetV2::/torch.nn.modules.container.Sequential::layers/models.mobilenetv2_no_bn.Block::layers.11 # /home/studenta/anaconda3/envs/sEMG/lib/python3.9/site-packages/torch/nn/functional.py:1457:0\n",
      "  %/layers/layers.11/conv2/Conv_output_0 : Float(1, 96, 2, 6, strides=[1152, 12, 6, 1], requires_grad=0, device=cuda:0) = onnx::Conv[dilations=[1, 1], group=96, kernel_shape=[3, 3], pads=[1, 1, 1, 1], strides=[1, 1], onnx_name=\"/layers/layers.11/conv2/Conv\"](%/layers/layers.11/Relu_output_0, %layers.11.conv2.weight), scope: models.mobilenetv2_no_bn.MobileNetV2::/torch.nn.modules.container.Sequential::layers/models.mobilenetv2_no_bn.Block::layers.11/torch.nn.modules.conv.Conv2d::conv2 # /home/studenta/anaconda3/envs/sEMG/lib/python3.9/site-packages/torch/nn/modules/conv.py:459:0\n",
      "  %/layers/layers.11/Relu_1_output_0 : Float(1, 96, 2, 6, strides=[1152, 12, 6, 1], requires_grad=1, device=cuda:0) = onnx::Relu[onnx_name=\"/layers/layers.11/Relu_1\"](%/layers/layers.11/conv2/Conv_output_0), scope: models.mobilenetv2_no_bn.MobileNetV2::/torch.nn.modules.container.Sequential::layers/models.mobilenetv2_no_bn.Block::layers.11 # /home/studenta/anaconda3/envs/sEMG/lib/python3.9/site-packages/torch/nn/functional.py:1457:0\n",
      "  %/layers/layers.11/conv3/Conv_output_0 : Float(1, 96, 2, 6, strides=[1152, 12, 6, 1], requires_grad=0, device=cuda:0) = onnx::Conv[dilations=[1, 1], group=1, kernel_shape=[1, 1], pads=[0, 0, 0, 0], strides=[1, 1], onnx_name=\"/layers/layers.11/conv3/Conv\"](%/layers/layers.11/Relu_1_output_0, %layers.11.conv3.weight), scope: models.mobilenetv2_no_bn.MobileNetV2::/torch.nn.modules.container.Sequential::layers/models.mobilenetv2_no_bn.Block::layers.11/torch.nn.modules.conv.Conv2d::conv3 # /home/studenta/anaconda3/envs/sEMG/lib/python3.9/site-packages/torch/nn/modules/conv.py:459:0\n",
      "  %/layers/layers.11/Add_output_0 : Float(1, 96, 2, 6, strides=[1152, 12, 6, 1], requires_grad=1, device=cuda:0) = onnx::Add[onnx_name=\"/layers/layers.11/Add\"](%/layers/layers.11/conv3/Conv_output_0, %/layers/layers.10/Add_output_0), scope: models.mobilenetv2_no_bn.MobileNetV2::/torch.nn.modules.container.Sequential::layers/models.mobilenetv2_no_bn.Block::layers.11 # /home/studenta/Documents/CNN-HD-sEMG-Classifier/models/mobilenetv2_no_bn.py:39:0\n",
      "  %/layers/layers.12/conv1/Conv_output_0 : Float(1, 96, 2, 6, strides=[1152, 12, 6, 1], requires_grad=0, device=cuda:0) = onnx::Conv[dilations=[1, 1], group=1, kernel_shape=[1, 1], pads=[0, 0, 0, 0], strides=[1, 1], onnx_name=\"/layers/layers.12/conv1/Conv\"](%/layers/layers.11/Add_output_0, %layers.12.conv1.weight), scope: models.mobilenetv2_no_bn.MobileNetV2::/torch.nn.modules.container.Sequential::layers/models.mobilenetv2_no_bn.Block::layers.12/torch.nn.modules.conv.Conv2d::conv1 # /home/studenta/anaconda3/envs/sEMG/lib/python3.9/site-packages/torch/nn/modules/conv.py:459:0\n",
      "  %/layers/layers.12/Relu_output_0 : Float(1, 96, 2, 6, strides=[1152, 12, 6, 1], requires_grad=1, device=cuda:0) = onnx::Relu[onnx_name=\"/layers/layers.12/Relu\"](%/layers/layers.12/conv1/Conv_output_0), scope: models.mobilenetv2_no_bn.MobileNetV2::/torch.nn.modules.container.Sequential::layers/models.mobilenetv2_no_bn.Block::layers.12 # /home/studenta/anaconda3/envs/sEMG/lib/python3.9/site-packages/torch/nn/functional.py:1457:0\n",
      "  %/layers/layers.12/conv2/Conv_output_0 : Float(1, 96, 2, 6, strides=[1152, 12, 6, 1], requires_grad=0, device=cuda:0) = onnx::Conv[dilations=[1, 1], group=96, kernel_shape=[3, 3], pads=[1, 1, 1, 1], strides=[1, 1], onnx_name=\"/layers/layers.12/conv2/Conv\"](%/layers/layers.12/Relu_output_0, %layers.12.conv2.weight), scope: models.mobilenetv2_no_bn.MobileNetV2::/torch.nn.modules.container.Sequential::layers/models.mobilenetv2_no_bn.Block::layers.12/torch.nn.modules.conv.Conv2d::conv2 # /home/studenta/anaconda3/envs/sEMG/lib/python3.9/site-packages/torch/nn/modules/conv.py:459:0\n",
      "  %/layers/layers.12/Relu_1_output_0 : Float(1, 96, 2, 6, strides=[1152, 12, 6, 1], requires_grad=1, device=cuda:0) = onnx::Relu[onnx_name=\"/layers/layers.12/Relu_1\"](%/layers/layers.12/conv2/Conv_output_0), scope: models.mobilenetv2_no_bn.MobileNetV2::/torch.nn.modules.container.Sequential::layers/models.mobilenetv2_no_bn.Block::layers.12 # /home/studenta/anaconda3/envs/sEMG/lib/python3.9/site-packages/torch/nn/functional.py:1457:0\n",
      "  %/layers/layers.12/conv3/Conv_output_0 : Float(1, 96, 2, 6, strides=[1152, 12, 6, 1], requires_grad=0, device=cuda:0) = onnx::Conv[dilations=[1, 1], group=1, kernel_shape=[1, 1], pads=[0, 0, 0, 0], strides=[1, 1], onnx_name=\"/layers/layers.12/conv3/Conv\"](%/layers/layers.12/Relu_1_output_0, %layers.12.conv3.weight), scope: models.mobilenetv2_no_bn.MobileNetV2::/torch.nn.modules.container.Sequential::layers/models.mobilenetv2_no_bn.Block::layers.12/torch.nn.modules.conv.Conv2d::conv3 # /home/studenta/anaconda3/envs/sEMG/lib/python3.9/site-packages/torch/nn/modules/conv.py:459:0\n",
      "  %/layers/layers.12/Add_output_0 : Float(1, 96, 2, 6, strides=[1152, 12, 6, 1], requires_grad=1, device=cuda:0) = onnx::Add[onnx_name=\"/layers/layers.12/Add\"](%/layers/layers.12/conv3/Conv_output_0, %/layers/layers.11/Add_output_0), scope: models.mobilenetv2_no_bn.MobileNetV2::/torch.nn.modules.container.Sequential::layers/models.mobilenetv2_no_bn.Block::layers.12 # /home/studenta/Documents/CNN-HD-sEMG-Classifier/models/mobilenetv2_no_bn.py:39:0\n",
      "  %/layers/layers.13/conv1/Conv_output_0 : Float(1, 96, 2, 6, strides=[1152, 12, 6, 1], requires_grad=0, device=cuda:0) = onnx::Conv[dilations=[1, 1], group=1, kernel_shape=[1, 1], pads=[0, 0, 0, 0], strides=[1, 1], onnx_name=\"/layers/layers.13/conv1/Conv\"](%/layers/layers.12/Add_output_0, %layers.13.conv1.weight), scope: models.mobilenetv2_no_bn.MobileNetV2::/torch.nn.modules.container.Sequential::layers/models.mobilenetv2_no_bn.Block::layers.13/torch.nn.modules.conv.Conv2d::conv1 # /home/studenta/anaconda3/envs/sEMG/lib/python3.9/site-packages/torch/nn/modules/conv.py:459:0\n",
      "  %/layers/layers.13/Relu_output_0 : Float(1, 96, 2, 6, strides=[1152, 12, 6, 1], requires_grad=1, device=cuda:0) = onnx::Relu[onnx_name=\"/layers/layers.13/Relu\"](%/layers/layers.13/conv1/Conv_output_0), scope: models.mobilenetv2_no_bn.MobileNetV2::/torch.nn.modules.container.Sequential::layers/models.mobilenetv2_no_bn.Block::layers.13 # /home/studenta/anaconda3/envs/sEMG/lib/python3.9/site-packages/torch/nn/functional.py:1457:0\n",
      "  %/layers/layers.13/conv2/Conv_output_0 : Float(1, 96, 1, 3, strides=[288, 3, 3, 1], requires_grad=0, device=cuda:0) = onnx::Conv[dilations=[1, 1], group=96, kernel_shape=[3, 3], pads=[1, 1, 1, 1], strides=[2, 2], onnx_name=\"/layers/layers.13/conv2/Conv\"](%/layers/layers.13/Relu_output_0, %layers.13.conv2.weight), scope: models.mobilenetv2_no_bn.MobileNetV2::/torch.nn.modules.container.Sequential::layers/models.mobilenetv2_no_bn.Block::layers.13/torch.nn.modules.conv.Conv2d::conv2 # /home/studenta/anaconda3/envs/sEMG/lib/python3.9/site-packages/torch/nn/modules/conv.py:459:0\n",
      "  %/layers/layers.13/Relu_1_output_0 : Float(1, 96, 1, 3, strides=[288, 3, 3, 1], requires_grad=1, device=cuda:0) = onnx::Relu[onnx_name=\"/layers/layers.13/Relu_1\"](%/layers/layers.13/conv2/Conv_output_0), scope: models.mobilenetv2_no_bn.MobileNetV2::/torch.nn.modules.container.Sequential::layers/models.mobilenetv2_no_bn.Block::layers.13 # /home/studenta/anaconda3/envs/sEMG/lib/python3.9/site-packages/torch/nn/functional.py:1457:0\n",
      "  %/layers/layers.13/conv3/Conv_output_0 : Float(1, 160, 1, 3, strides=[480, 3, 3, 1], requires_grad=0, device=cuda:0) = onnx::Conv[dilations=[1, 1], group=1, kernel_shape=[1, 1], pads=[0, 0, 0, 0], strides=[1, 1], onnx_name=\"/layers/layers.13/conv3/Conv\"](%/layers/layers.13/Relu_1_output_0, %layers.13.conv3.weight), scope: models.mobilenetv2_no_bn.MobileNetV2::/torch.nn.modules.container.Sequential::layers/models.mobilenetv2_no_bn.Block::layers.13/torch.nn.modules.conv.Conv2d::conv3 # /home/studenta/anaconda3/envs/sEMG/lib/python3.9/site-packages/torch/nn/modules/conv.py:459:0\n",
      "  %/layers/layers.14/conv1/Conv_output_0 : Float(1, 160, 1, 3, strides=[480, 3, 3, 1], requires_grad=0, device=cuda:0) = onnx::Conv[dilations=[1, 1], group=1, kernel_shape=[1, 1], pads=[0, 0, 0, 0], strides=[1, 1], onnx_name=\"/layers/layers.14/conv1/Conv\"](%/layers/layers.13/conv3/Conv_output_0, %layers.14.conv1.weight), scope: models.mobilenetv2_no_bn.MobileNetV2::/torch.nn.modules.container.Sequential::layers/models.mobilenetv2_no_bn.Block::layers.14/torch.nn.modules.conv.Conv2d::conv1 # /home/studenta/anaconda3/envs/sEMG/lib/python3.9/site-packages/torch/nn/modules/conv.py:459:0\n",
      "  %/layers/layers.14/Relu_output_0 : Float(1, 160, 1, 3, strides=[480, 3, 3, 1], requires_grad=1, device=cuda:0) = onnx::Relu[onnx_name=\"/layers/layers.14/Relu\"](%/layers/layers.14/conv1/Conv_output_0), scope: models.mobilenetv2_no_bn.MobileNetV2::/torch.nn.modules.container.Sequential::layers/models.mobilenetv2_no_bn.Block::layers.14 # /home/studenta/anaconda3/envs/sEMG/lib/python3.9/site-packages/torch/nn/functional.py:1457:0\n",
      "  %/layers/layers.14/conv2/Conv_output_0 : Float(1, 160, 1, 3, strides=[480, 3, 3, 1], requires_grad=0, device=cuda:0) = onnx::Conv[dilations=[1, 1], group=160, kernel_shape=[3, 3], pads=[1, 1, 1, 1], strides=[1, 1], onnx_name=\"/layers/layers.14/conv2/Conv\"](%/layers/layers.14/Relu_output_0, %layers.14.conv2.weight), scope: models.mobilenetv2_no_bn.MobileNetV2::/torch.nn.modules.container.Sequential::layers/models.mobilenetv2_no_bn.Block::layers.14/torch.nn.modules.conv.Conv2d::conv2 # /home/studenta/anaconda3/envs/sEMG/lib/python3.9/site-packages/torch/nn/modules/conv.py:459:0\n",
      "  %/layers/layers.14/Relu_1_output_0 : Float(1, 160, 1, 3, strides=[480, 3, 3, 1], requires_grad=1, device=cuda:0) = onnx::Relu[onnx_name=\"/layers/layers.14/Relu_1\"](%/layers/layers.14/conv2/Conv_output_0), scope: models.mobilenetv2_no_bn.MobileNetV2::/torch.nn.modules.container.Sequential::layers/models.mobilenetv2_no_bn.Block::layers.14 # /home/studenta/anaconda3/envs/sEMG/lib/python3.9/site-packages/torch/nn/functional.py:1457:0\n",
      "  %/layers/layers.14/conv3/Conv_output_0 : Float(1, 160, 1, 3, strides=[480, 3, 3, 1], requires_grad=0, device=cuda:0) = onnx::Conv[dilations=[1, 1], group=1, kernel_shape=[1, 1], pads=[0, 0, 0, 0], strides=[1, 1], onnx_name=\"/layers/layers.14/conv3/Conv\"](%/layers/layers.14/Relu_1_output_0, %layers.14.conv3.weight), scope: models.mobilenetv2_no_bn.MobileNetV2::/torch.nn.modules.container.Sequential::layers/models.mobilenetv2_no_bn.Block::layers.14/torch.nn.modules.conv.Conv2d::conv3 # /home/studenta/anaconda3/envs/sEMG/lib/python3.9/site-packages/torch/nn/modules/conv.py:459:0\n",
      "  %/layers/layers.14/Add_output_0 : Float(1, 160, 1, 3, strides=[480, 3, 3, 1], requires_grad=1, device=cuda:0) = onnx::Add[onnx_name=\"/layers/layers.14/Add\"](%/layers/layers.14/conv3/Conv_output_0, %/layers/layers.13/conv3/Conv_output_0), scope: models.mobilenetv2_no_bn.MobileNetV2::/torch.nn.modules.container.Sequential::layers/models.mobilenetv2_no_bn.Block::layers.14 # /home/studenta/Documents/CNN-HD-sEMG-Classifier/models/mobilenetv2_no_bn.py:39:0\n",
      "  %/layers/layers.15/conv1/Conv_output_0 : Float(1, 160, 1, 3, strides=[480, 3, 3, 1], requires_grad=0, device=cuda:0) = onnx::Conv[dilations=[1, 1], group=1, kernel_shape=[1, 1], pads=[0, 0, 0, 0], strides=[1, 1], onnx_name=\"/layers/layers.15/conv1/Conv\"](%/layers/layers.14/Add_output_0, %layers.15.conv1.weight), scope: models.mobilenetv2_no_bn.MobileNetV2::/torch.nn.modules.container.Sequential::layers/models.mobilenetv2_no_bn.Block::layers.15/torch.nn.modules.conv.Conv2d::conv1 # /home/studenta/anaconda3/envs/sEMG/lib/python3.9/site-packages/torch/nn/modules/conv.py:459:0\n",
      "  %/layers/layers.15/Relu_output_0 : Float(1, 160, 1, 3, strides=[480, 3, 3, 1], requires_grad=1, device=cuda:0) = onnx::Relu[onnx_name=\"/layers/layers.15/Relu\"](%/layers/layers.15/conv1/Conv_output_0), scope: models.mobilenetv2_no_bn.MobileNetV2::/torch.nn.modules.container.Sequential::layers/models.mobilenetv2_no_bn.Block::layers.15 # /home/studenta/anaconda3/envs/sEMG/lib/python3.9/site-packages/torch/nn/functional.py:1457:0\n",
      "  %/layers/layers.15/conv2/Conv_output_0 : Float(1, 160, 1, 3, strides=[480, 3, 3, 1], requires_grad=0, device=cuda:0) = onnx::Conv[dilations=[1, 1], group=160, kernel_shape=[3, 3], pads=[1, 1, 1, 1], strides=[1, 1], onnx_name=\"/layers/layers.15/conv2/Conv\"](%/layers/layers.15/Relu_output_0, %layers.15.conv2.weight), scope: models.mobilenetv2_no_bn.MobileNetV2::/torch.nn.modules.container.Sequential::layers/models.mobilenetv2_no_bn.Block::layers.15/torch.nn.modules.conv.Conv2d::conv2 # /home/studenta/anaconda3/envs/sEMG/lib/python3.9/site-packages/torch/nn/modules/conv.py:459:0\n",
      "  %/layers/layers.15/Relu_1_output_0 : Float(1, 160, 1, 3, strides=[480, 3, 3, 1], requires_grad=1, device=cuda:0) = onnx::Relu[onnx_name=\"/layers/layers.15/Relu_1\"](%/layers/layers.15/conv2/Conv_output_0), scope: models.mobilenetv2_no_bn.MobileNetV2::/torch.nn.modules.container.Sequential::layers/models.mobilenetv2_no_bn.Block::layers.15 # /home/studenta/anaconda3/envs/sEMG/lib/python3.9/site-packages/torch/nn/functional.py:1457:0\n",
      "  %/layers/layers.15/conv3/Conv_output_0 : Float(1, 160, 1, 3, strides=[480, 3, 3, 1], requires_grad=0, device=cuda:0) = onnx::Conv[dilations=[1, 1], group=1, kernel_shape=[1, 1], pads=[0, 0, 0, 0], strides=[1, 1], onnx_name=\"/layers/layers.15/conv3/Conv\"](%/layers/layers.15/Relu_1_output_0, %layers.15.conv3.weight), scope: models.mobilenetv2_no_bn.MobileNetV2::/torch.nn.modules.container.Sequential::layers/models.mobilenetv2_no_bn.Block::layers.15/torch.nn.modules.conv.Conv2d::conv3 # /home/studenta/anaconda3/envs/sEMG/lib/python3.9/site-packages/torch/nn/modules/conv.py:459:0\n",
      "  %/layers/layers.15/Add_output_0 : Float(1, 160, 1, 3, strides=[480, 3, 3, 1], requires_grad=1, device=cuda:0) = onnx::Add[onnx_name=\"/layers/layers.15/Add\"](%/layers/layers.15/conv3/Conv_output_0, %/layers/layers.14/Add_output_0), scope: models.mobilenetv2_no_bn.MobileNetV2::/torch.nn.modules.container.Sequential::layers/models.mobilenetv2_no_bn.Block::layers.15 # /home/studenta/Documents/CNN-HD-sEMG-Classifier/models/mobilenetv2_no_bn.py:39:0\n",
      "  %/layers/layers.16/conv1/Conv_output_0 : Float(1, 160, 1, 3, strides=[480, 3, 3, 1], requires_grad=0, device=cuda:0) = onnx::Conv[dilations=[1, 1], group=1, kernel_shape=[1, 1], pads=[0, 0, 0, 0], strides=[1, 1], onnx_name=\"/layers/layers.16/conv1/Conv\"](%/layers/layers.15/Add_output_0, %layers.16.conv1.weight), scope: models.mobilenetv2_no_bn.MobileNetV2::/torch.nn.modules.container.Sequential::layers/models.mobilenetv2_no_bn.Block::layers.16/torch.nn.modules.conv.Conv2d::conv1 # /home/studenta/anaconda3/envs/sEMG/lib/python3.9/site-packages/torch/nn/modules/conv.py:459:0\n",
      "  %/layers/layers.16/Relu_output_0 : Float(1, 160, 1, 3, strides=[480, 3, 3, 1], requires_grad=1, device=cuda:0) = onnx::Relu[onnx_name=\"/layers/layers.16/Relu\"](%/layers/layers.16/conv1/Conv_output_0), scope: models.mobilenetv2_no_bn.MobileNetV2::/torch.nn.modules.container.Sequential::layers/models.mobilenetv2_no_bn.Block::layers.16 # /home/studenta/anaconda3/envs/sEMG/lib/python3.9/site-packages/torch/nn/functional.py:1457:0\n",
      "  %/layers/layers.16/conv2/Conv_output_0 : Float(1, 160, 1, 3, strides=[480, 3, 3, 1], requires_grad=0, device=cuda:0) = onnx::Conv[dilations=[1, 1], group=160, kernel_shape=[3, 3], pads=[1, 1, 1, 1], strides=[1, 1], onnx_name=\"/layers/layers.16/conv2/Conv\"](%/layers/layers.16/Relu_output_0, %layers.16.conv2.weight), scope: models.mobilenetv2_no_bn.MobileNetV2::/torch.nn.modules.container.Sequential::layers/models.mobilenetv2_no_bn.Block::layers.16/torch.nn.modules.conv.Conv2d::conv2 # /home/studenta/anaconda3/envs/sEMG/lib/python3.9/site-packages/torch/nn/modules/conv.py:459:0\n",
      "  %/layers/layers.16/Relu_1_output_0 : Float(1, 160, 1, 3, strides=[480, 3, 3, 1], requires_grad=1, device=cuda:0) = onnx::Relu[onnx_name=\"/layers/layers.16/Relu_1\"](%/layers/layers.16/conv2/Conv_output_0), scope: models.mobilenetv2_no_bn.MobileNetV2::/torch.nn.modules.container.Sequential::layers/models.mobilenetv2_no_bn.Block::layers.16 # /home/studenta/anaconda3/envs/sEMG/lib/python3.9/site-packages/torch/nn/functional.py:1457:0\n",
      "  %/layers/layers.16/conv3/Conv_output_0 : Float(1, 320, 1, 3, strides=[960, 3, 3, 1], requires_grad=0, device=cuda:0) = onnx::Conv[dilations=[1, 1], group=1, kernel_shape=[1, 1], pads=[0, 0, 0, 0], strides=[1, 1], onnx_name=\"/layers/layers.16/conv3/Conv\"](%/layers/layers.16/Relu_1_output_0, %layers.16.conv3.weight), scope: models.mobilenetv2_no_bn.MobileNetV2::/torch.nn.modules.container.Sequential::layers/models.mobilenetv2_no_bn.Block::layers.16/torch.nn.modules.conv.Conv2d::conv3 # /home/studenta/anaconda3/envs/sEMG/lib/python3.9/site-packages/torch/nn/modules/conv.py:459:0\n",
      "  %/layers/layers.16/shortcut/shortcut.0/Conv_output_0 : Float(1, 320, 1, 3, strides=[960, 3, 3, 1], requires_grad=0, device=cuda:0) = onnx::Conv[dilations=[1, 1], group=1, kernel_shape=[1, 1], pads=[0, 0, 0, 0], strides=[1, 1], onnx_name=\"/layers/layers.16/shortcut/shortcut.0/Conv\"](%/layers/layers.15/Add_output_0, %layers.16.shortcut.0.weight), scope: models.mobilenetv2_no_bn.MobileNetV2::/torch.nn.modules.container.Sequential::layers/models.mobilenetv2_no_bn.Block::layers.16/torch.nn.modules.container.Sequential::shortcut/torch.nn.modules.conv.Conv2d::shortcut.0 # /home/studenta/anaconda3/envs/sEMG/lib/python3.9/site-packages/torch/nn/modules/conv.py:459:0\n",
      "  %/layers/layers.16/Add_output_0 : Float(1, 320, 1, 3, strides=[960, 3, 3, 1], requires_grad=1, device=cuda:0) = onnx::Add[onnx_name=\"/layers/layers.16/Add\"](%/layers/layers.16/conv3/Conv_output_0, %/layers/layers.16/shortcut/shortcut.0/Conv_output_0), scope: models.mobilenetv2_no_bn.MobileNetV2::/torch.nn.modules.container.Sequential::layers/models.mobilenetv2_no_bn.Block::layers.16 # /home/studenta/Documents/CNN-HD-sEMG-Classifier/models/mobilenetv2_no_bn.py:39:0\n",
      "  %/conv2/Conv_output_0 : Float(1, 1280, 1, 3, strides=[3840, 3, 3, 1], requires_grad=0, device=cuda:0) = onnx::Conv[dilations=[1, 1], group=1, kernel_shape=[1, 1], pads=[0, 0, 0, 0], strides=[1, 1], onnx_name=\"/conv2/Conv\"](%/layers/layers.16/Add_output_0, %conv2.weight), scope: models.mobilenetv2_no_bn.MobileNetV2::/torch.nn.modules.conv.Conv2d::conv2 # /home/studenta/anaconda3/envs/sEMG/lib/python3.9/site-packages/torch/nn/modules/conv.py:459:0\n",
      "  %/Relu_1_output_0 : Float(1, 1280, 1, 3, strides=[3840, 3, 3, 1], requires_grad=1, device=cuda:0) = onnx::Relu[onnx_name=\"/Relu_1\"](%/conv2/Conv_output_0), scope: models.mobilenetv2_no_bn.MobileNetV2:: # /home/studenta/anaconda3/envs/sEMG/lib/python3.9/site-packages/torch/nn/functional.py:1457:0\n",
      "  %/Constant_output_0 : Long(2, strides=[1], requires_grad=0, device=cpu) = onnx::Constant[value= 1 -1 [ CPULongType{2} ], onnx_name=\"/Constant\"](), scope: models.mobilenetv2_no_bn.MobileNetV2:: # /home/studenta/Documents/CNN-HD-sEMG-Classifier/models/mobilenetv2_no_bn.py:87:0\n",
      "  %/Reshape_output_0 : Float(1, 3840, strides=[3840, 1], requires_grad=1, device=cuda:0) = onnx::Reshape[allowzero=0, onnx_name=\"/Reshape\"](%/Relu_1_output_0, %/Constant_output_0), scope: models.mobilenetv2_no_bn.MobileNetV2:: # /home/studenta/Documents/CNN-HD-sEMG-Classifier/models/mobilenetv2_no_bn.py:87:0\n",
      "  %175 : Float(1, 8, strides=[8, 1], requires_grad=1, device=cuda:0) = onnx::Gemm[alpha=1., beta=1., transB=1, onnx_name=\"/linear/Gemm\"](%/Reshape_output_0, %linear.weight, %linear.bias), scope: models.mobilenetv2_no_bn.MobileNetV2::/torch.nn.modules.linear.Linear::linear # /home/studenta/anaconda3/envs/sEMG/lib/python3.9/site-packages/torch/nn/modules/linear.py:114:0\n",
      "  return (%175)\n",
      "\n",
      "================ Diagnostic Run torch.onnx.export version 2.0.1 ================\n",
      "verbose: False, log level: Level.ERROR\n",
      "======================= 0 NONE 0 NOTE 0 WARNING 0 ERROR ========================\n",
      "\n"
     ]
    }
   ],
   "source": [
    "import torch\n",
    "import torchvision\n",
    "from models.mobilenetv2_no_bn import MobileNetV2\n",
    "dummy_input = torch.randn(1, 1, 8, 24, device=\"cuda\")\n",
    "model = MobileNetV2(num_classes=8, input_layer=1, model_width=0.2).cuda()\n",
    "model.load_state_dict(torch.load(\"pretrain_model/pretrain_model_no_bn/MobilenetV2_Params@797.096K_MAC@4.555M_Acc@97.912.pt\"), strict=False)\n",
    "model.eval()\n",
    "\n",
    "torch.onnx.export(model, dummy_input, \"pretrain_model/onnx_model/MobilenetV2.onnx\", verbose=True)"
   ]
  },
  {
   "attachments": {},
   "cell_type": "markdown",
   "metadata": {},
   "source": [
    "# Conver Onnx Model to Tensorflow Model"
   ]
  },
  {
   "cell_type": "code",
   "execution_count": 12,
   "metadata": {},
   "outputs": [
    {
     "name": "stdout",
     "output_type": "stream",
     "text": [
      "/home/studenta/Documents/CNN-HD-sEMG-Classifier/onnx-tensorflow\n"
     ]
    }
   ],
   "source": [
    "# Install library\n",
    "%cd onnx-tensorflow\n"
   ]
  },
  {
   "cell_type": "code",
   "execution_count": null,
   "metadata": {},
   "outputs": [],
   "source": [
    "# Install library\n",
    "!pip install -e ."
   ]
  },
  {
   "cell_type": "code",
   "execution_count": 14,
   "metadata": {},
   "outputs": [
    {
     "name": "stderr",
     "output_type": "stream",
     "text": [
      "2023-05-28 00:42:57.297687: I tensorflow/core/util/port.cc:110] oneDNN custom operations are on. You may see slightly different numerical results due to floating-point round-off errors from different computation orders. To turn them off, set the environment variable `TF_ENABLE_ONEDNN_OPTS=0`.\n",
      "2023-05-28 00:42:57.317376: I tensorflow/core/platform/cpu_feature_guard.cc:182] This TensorFlow binary is optimized to use available CPU instructions in performance-critical operations.\n",
      "To enable the following instructions: AVX2 AVX_VNNI FMA, in other operations, rebuild TensorFlow with the appropriate compiler flags.\n",
      "2023-05-28 00:42:57.639282: W tensorflow/compiler/tf2tensorrt/utils/py_utils.cc:38] TF-TRT Warning: Could not find TensorRT\n",
      "/home/studenta/anaconda3/envs/sEMG/lib/python3.9/site-packages/tensorflow_addons/utils/tfa_eol_msg.py:23: UserWarning: \n",
      "\n",
      "TensorFlow Addons (TFA) has ended development and introduction of new features.\n",
      "TFA has entered a minimal maintenance and release mode until a planned end of life in May 2024.\n",
      "Please modify downstream libraries to take dependencies from other repositories in our TensorFlow community (e.g. Keras, Keras-CV, and Keras-NLP). \n",
      "\n",
      "For more information see: https://github.com/tensorflow/addons/issues/2807 \n",
      "\n",
      "  warnings.warn(\n",
      "2023-05-28 00:42:58.101149: I tensorflow/compiler/xla/stream_executor/cuda/cuda_gpu_executor.cc:996] successful NUMA node read from SysFS had negative value (-1), but there must be at least one NUMA node, so returning NUMA node zero. See more at https://github.com/torvalds/linux/blob/v6.0/Documentation/ABI/testing/sysfs-bus-pci#L344-L355\n",
      "2023-05-28 00:42:58.101670: I tensorflow/compiler/xla/stream_executor/cuda/cuda_gpu_executor.cc:996] successful NUMA node read from SysFS had negative value (-1), but there must be at least one NUMA node, so returning NUMA node zero. See more at https://github.com/torvalds/linux/blob/v6.0/Documentation/ABI/testing/sysfs-bus-pci#L344-L355\n",
      "2023-05-28 00:42:58.101736: I tensorflow/compiler/xla/stream_executor/cuda/cuda_gpu_executor.cc:996] successful NUMA node read from SysFS had negative value (-1), but there must be at least one NUMA node, so returning NUMA node zero. See more at https://github.com/torvalds/linux/blob/v6.0/Documentation/ABI/testing/sysfs-bus-pci#L344-L355\n",
      "2023-05-28 00:42:58.102562: I tensorflow/compiler/xla/stream_executor/cuda/cuda_gpu_executor.cc:996] successful NUMA node read from SysFS had negative value (-1), but there must be at least one NUMA node, so returning NUMA node zero. See more at https://github.com/torvalds/linux/blob/v6.0/Documentation/ABI/testing/sysfs-bus-pci#L344-L355\n",
      "2023-05-28 00:42:58.102635: I tensorflow/compiler/xla/stream_executor/cuda/cuda_gpu_executor.cc:996] successful NUMA node read from SysFS had negative value (-1), but there must be at least one NUMA node, so returning NUMA node zero. See more at https://github.com/torvalds/linux/blob/v6.0/Documentation/ABI/testing/sysfs-bus-pci#L344-L355\n",
      "2023-05-28 00:42:58.102678: I tensorflow/compiler/xla/stream_executor/cuda/cuda_gpu_executor.cc:996] successful NUMA node read from SysFS had negative value (-1), but there must be at least one NUMA node, so returning NUMA node zero. See more at https://github.com/torvalds/linux/blob/v6.0/Documentation/ABI/testing/sysfs-bus-pci#L344-L355\n",
      "2023-05-28 00:42:58.105864: I tensorflow/compiler/xla/stream_executor/cuda/cuda_gpu_executor.cc:996] successful NUMA node read from SysFS had negative value (-1), but there must be at least one NUMA node, so returning NUMA node zero. See more at https://github.com/torvalds/linux/blob/v6.0/Documentation/ABI/testing/sysfs-bus-pci#L344-L355\n",
      "2023-05-28 00:42:58.105929: I tensorflow/compiler/xla/stream_executor/cuda/cuda_gpu_executor.cc:996] successful NUMA node read from SysFS had negative value (-1), but there must be at least one NUMA node, so returning NUMA node zero. See more at https://github.com/torvalds/linux/blob/v6.0/Documentation/ABI/testing/sysfs-bus-pci#L344-L355\n",
      "2023-05-28 00:42:58.105974: I tensorflow/compiler/xla/stream_executor/cuda/cuda_gpu_executor.cc:996] successful NUMA node read from SysFS had negative value (-1), but there must be at least one NUMA node, so returning NUMA node zero. See more at https://github.com/torvalds/linux/blob/v6.0/Documentation/ABI/testing/sysfs-bus-pci#L344-L355\n",
      "2023-05-28 00:42:58.106019: I tensorflow/core/common_runtime/gpu/gpu_device.cc:1635] Created device /job:localhost/replica:0/task:0/device:GPU:0 with 7052 MB memory:  -> device: 0, name: NVIDIA GeForce RTX 3080, pci bus id: 0000:01:00.0, compute capability: 8.6\n",
      "WARNING:absl:`input.1` is not a valid tf.function parameter name. Sanitizing to `input_1`.\n",
      "WARNING:absl:`input.1` is not a valid tf.function parameter name. Sanitizing to `input_1`.\n",
      "WARNING:absl:Function `__call__` contains input name(s) input.1 with unsupported characters which will be renamed to input_1 in the SavedModel.\n",
      "WARNING:absl:`input.1` is not a valid tf.function parameter name. Sanitizing to `input_1`.\n",
      "WARNING:absl:`input.1` is not a valid tf.function parameter name. Sanitizing to `input_1`.\n",
      "WARNING:absl:Found untraced functions such as gen_tensor_dict while saving (showing 1 of 1). These functions will not be directly callable after loading.\n"
     ]
    },
    {
     "name": "stdout",
     "output_type": "stream",
     "text": [
      "INFO:tensorflow:Assets written to: ../pretrain_model/tf_model/assets\n"
     ]
    },
    {
     "name": "stderr",
     "output_type": "stream",
     "text": [
      "INFO:tensorflow:Assets written to: ../pretrain_model/tf_model/assets\n"
     ]
    }
   ],
   "source": [
    "\n",
    "\n",
    "import onnx\n",
    "\n",
    "onnx_model = onnx.load(\"../pretrain_model/onnx_model/MobilenetV2.onnx\")\n",
    "\n",
    "from onnx_tf.backend import prepare\n",
    "\n",
    "tf_rep = prepare(onnx_model)\n",
    "tf_rep.export_graph(\"../pretrain_model/tf_model\")\n"
   ]
  },
  {
   "attachments": {},
   "cell_type": "markdown",
   "metadata": {},
   "source": [
    "# Quantization aware training"
   ]
  },
  {
   "cell_type": "code",
   "execution_count": 38,
   "metadata": {},
   "outputs": [
    {
     "name": "stdout",
     "output_type": "stream",
     "text": [
      "WARNING:tensorflow:SavedModel saved prior to TF 2.5 detected when loading Keras model. Please ensure that you are saving the model with model.save() or tf.keras.models.save_model(), *NOT* tf.saved_model.save(). To confirm, there should be a file named \"keras_metadata.pb\" in the SavedModel directory.\n"
     ]
    },
    {
     "name": "stderr",
     "output_type": "stream",
     "text": [
      "WARNING:tensorflow:SavedModel saved prior to TF 2.5 detected when loading Keras model. Please ensure that you are saving the model with model.save() or tf.keras.models.save_model(), *NOT* tf.saved_model.save(). To confirm, there should be a file named \"keras_metadata.pb\" in the SavedModel directory.\n"
     ]
    },
    {
     "ename": "AttributeError",
     "evalue": "'_UserObject' object has no attribute 'summary'",
     "output_type": "error",
     "traceback": [
      "\u001b[0;31m---------------------------------------------------------------------------\u001b[0m",
      "\u001b[0;31mAttributeError\u001b[0m                            Traceback (most recent call last)",
      "Cell \u001b[0;32mIn[38], line 10\u001b[0m\n\u001b[1;32m      3\u001b[0m model \u001b[39m=\u001b[39m tf\u001b[39m.\u001b[39mkeras\u001b[39m.\u001b[39mmodels\u001b[39m.\u001b[39mload_model(\u001b[39m'\u001b[39m\u001b[39m../pretrain_model/tf_model\u001b[39m\u001b[39m'\u001b[39m)\n\u001b[1;32m      4\u001b[0m \u001b[39m# model = tf.saved_model.load(\"../pretrain_model/tf_model\")\u001b[39;00m\n\u001b[1;32m      5\u001b[0m \u001b[39m# q_aware_model = quantize_model(model)\u001b[39;00m\n\u001b[1;32m      6\u001b[0m \u001b[39m# q_aware_model.compile(optimizer='adam',\u001b[39;00m\n\u001b[1;32m      7\u001b[0m \u001b[39m#               loss=tf.keras.losses.SparseCategoricalCrossentropy(from_logits=True),\u001b[39;00m\n\u001b[1;32m      8\u001b[0m \u001b[39m#               metrics=['accuracy'])\u001b[39;00m\n\u001b[1;32m      9\u001b[0m \u001b[39m# q_aware_model.summary()\u001b[39;00m\n\u001b[0;32m---> 10\u001b[0m model\u001b[39m.\u001b[39;49msummary()\n",
      "\u001b[0;31mAttributeError\u001b[0m: '_UserObject' object has no attribute 'summary'"
     ]
    }
   ],
   "source": [
    "import tensorflow_model_optimization as tfmot\n",
    "# quantize_model = tfmot.quantization.keras.quantize_model\n",
    "model = tf.keras.models.load_model('../pretrain_model/tf_model')\n",
    "# model = tf.saved_model.load(\"../pretrain_model/tf_model\")\n",
    "# q_aware_model = quantize_model(model)\n",
    "# q_aware_model.compile(optimizer='adam',\n",
    "#               loss=tf.keras.losses.SparseCategoricalCrossentropy(from_logits=True),\n",
    "#               metrics=['accuracy'])\n",
    "# q_aware_model.summary()\n",
    "model.summary()"
   ]
  },
  {
   "attachments": {},
   "cell_type": "markdown",
   "metadata": {},
   "source": [
    "# Quantizte the Tensorflow Model and convert it to Tensorflow Lite Model"
   ]
  },
  {
   "cell_type": "code",
   "execution_count": null,
   "metadata": {},
   "outputs": [],
   "source": [
    "# Prepare representive data from quantization\n",
    "import scipy.io\n",
    "input_data = scipy.io.loadmat(\"data/sEMG_Test_Label_hand_close.mat\")['Data']\n",
    "import numpy as np\n",
    "input_data = np.array(input_data)\n",
    "input_data = input_data.reshape(-1, 1, 8, 24)\n",
    "\n",
    "# Normalize the input data by subtracting the mean and dividing by the standard deviation\n",
    "input_data = (input_data - input_data.mean()) / input_data.std()\n",
    "np.save(\"representive_data\",input_data)"
   ]
  },
  {
   "cell_type": "code",
   "execution_count": 15,
   "metadata": {},
   "outputs": [],
   "source": [
    "import numpy as np\n",
    "def representative_dataset():\n",
    "    data = np.load(\"../representive_data.npy\")\n",
    "    for i in range(1):\n",
    "        temp_data = data[i]\n",
    "        temp_data = temp_data.reshape(1,1,8,24)\n",
    "        yield [temp_data.astype(np.float32)]"
   ]
  },
  {
   "cell_type": "code",
   "execution_count": 17,
   "metadata": {},
   "outputs": [
    {
     "name": "stderr",
     "output_type": "stream",
     "text": [
      "2023-05-28 00:45:06.132373: W tensorflow/compiler/mlir/lite/python/tf_tfl_flatbuffer_helpers.cc:364] Ignored output_format.\n",
      "2023-05-28 00:45:06.132388: W tensorflow/compiler/mlir/lite/python/tf_tfl_flatbuffer_helpers.cc:367] Ignored drop_control_dependency.\n",
      "2023-05-28 00:45:06.132731: I tensorflow/cc/saved_model/reader.cc:45] Reading SavedModel from: ../pretrain_model/tf_model\n",
      "2023-05-28 00:45:06.134298: I tensorflow/cc/saved_model/reader.cc:89] Reading meta graph with tags { serve }\n",
      "2023-05-28 00:45:06.134331: I tensorflow/cc/saved_model/reader.cc:130] Reading SavedModel debug info (if present) from: ../pretrain_model/tf_model\n",
      "2023-05-28 00:45:06.141600: I tensorflow/compiler/mlir/mlir_graph_optimization_pass.cc:353] MLIR V1 optimization pass is not enabled\n",
      "2023-05-28 00:45:06.142955: I tensorflow/cc/saved_model/loader.cc:231] Restoring SavedModel bundle.\n",
      "2023-05-28 00:45:06.182579: I tensorflow/cc/saved_model/loader.cc:215] Running initialization op on SavedModel bundle at path: ../pretrain_model/tf_model\n",
      "2023-05-28 00:45:06.202266: I tensorflow/cc/saved_model/loader.cc:314] SavedModel load for tags { serve }; Status: success: OK. Took 69535 microseconds.\n",
      "2023-05-28 00:45:06.239722: I tensorflow/compiler/mlir/tensorflow/utils/dump_mlir_util.cc:269] disabling MLIR crash reproducer, set env var `MLIR_CRASH_REPRODUCER_DIRECTORY` to enable.\n",
      "2023-05-28 00:45:06.369359: I tensorflow/compiler/mlir/lite/flatbuffer_export.cc:2116] Estimated count of arithmetic ops: 9.236 M  ops, equivalently 4.618 M  MACs\n"
     ]
    }
   ],
   "source": [
    "import tensorflow as tf\n",
    "converter = tf.lite.TFLiteConverter.from_saved_model(\"../pretrain_model/tf_model\")\n",
    "converter.optimizations = [tf.lite.Optimize.DEFAULT]\n",
    "converter.representative_dataset = representative_dataset\n",
    "converter.target_spec.supported_ops = [tf.lite.OpsSet.EXPERIMENTAL_TFLITE_BUILTINS_ACTIVATIONS_INT16_WEIGHTS_INT8]\n",
    "tflite_model = converter.convert()\n",
    "\n",
    "# Save the model\n",
    "with open(\"../pretrain_model/tf_lite_model/mobilenetv2.tflite\", 'wb') as f:\n",
    "    f.write(tflite_model)"
   ]
  },
  {
   "attachments": {},
   "cell_type": "markdown",
   "metadata": {},
   "source": [
    "# Simulate Model Accuracy"
   ]
  },
  {
   "cell_type": "code",
   "execution_count": 21,
   "metadata": {},
   "outputs": [
    {
     "name": "stdout",
     "output_type": "stream",
     "text": [
      "Total Sample Size: 30720\n",
      "Prediction Correct Size: 24770\n",
      "Accuracy 0.81\n"
     ]
    }
   ],
   "source": [
    "import numpy as np\n",
    "import tensorflow as tf\n",
    "\n",
    "# Load the TFLite model and allocate tensors\n",
    "interpreter = tf.lite.Interpreter(model_path=\"../pretrain_model/tf_lite_model/mobilenetv2.tflite\")\n",
    "interpreter.allocate_tensors()\n",
    "\n",
    "# Get input and output tensors\n",
    "input_details = interpreter.get_input_details()\n",
    "output_details = interpreter.get_output_details()\n",
    "\n",
    "# Test the model on random input data\n",
    "input_shape = input_details[0]['shape']\n",
    "# input_data = np.array(np.random.random_sample(input_shape), dtype=np.int8)\n",
    "input_data = np.load(f\"../representive_data.npy\")\n",
    "ori_input_data = input_data.astype(np.float32)\n",
    "correct = 0\n",
    "print(\"Total Sample Size:\",ori_input_data.shape[0])\n",
    "for i in range(input_data.shape[0]):\n",
    "    input_data = np.expand_dims(ori_input_data[i], 0)\n",
    "    interpreter.set_tensor(input_details[0]['index'], input_data)\n",
    "\n",
    "    interpreter.invoke()\n",
    "\n",
    "    # get_tensor() returns a copy of the tensor data\n",
    "    # use tensor() in order to get a pointer to the tensor\n",
    "    output_data = interpreter.get_tensor(output_details[0]['index'])\n",
    "    if np.argmax(output_data) == 0:\n",
    "        correct += 1\n",
    "print(\"Prediction Correct Size:\",correct) #Total:30720\n",
    "print(\"Accuracy\",round(correct/int(ori_input_data.shape[0]),2))"
   ]
  },
  {
   "cell_type": "code",
   "execution_count": 4,
   "metadata": {},
   "outputs": [
    {
     "name": "stdout",
     "output_type": "stream",
     "text": [
      "-0.9778049,-2.2867649,-0.008407739,-1.0928181,-1.1311558,-0.9558976,-1.0544803,-0.80802345,0.16137369,0.21066505,0.14494322,-0.96137446,-0.7861162,-1.1202022,-0.96137446,-0.944944,-1.0982949,-0.0248382,0.15589687,-0.75325525,-0.90112936,0.17232732,-1.0928181,-0.63276523,-0.93946713,-1.0763876,-0.7696857,-1.0544803,-0.944944,-1.2133081,-1.065434,-0.5615666,-1.2845068,-1.065434,-1.2899836,-0.9778049,-1.0325731,-1.2406923,-0.7039639,-0.46298382,-1.3776127,-1.487149,-1.185924,-1.1640167,-0.8846989,-0.72587115,-0.6218116,-0.42464608,-1.6624073,-1.6076392,-1.3885663,-0.87922215,-0.9120831,-0.58347386,-0.42464608,-0.24938783,-1.8486191,-1.9910165,-1.2242619,-0.9285135,-0.5067984,-0.2658183,-0.16175869,-0.304156,-1.15854,-1.0928181,-1.1694936,-1.185924,-1.1914009,-1.0928181,-1.1366327,-1.2461691,-1.2625995,-1.1202022,-1.1749704,-1.1475863,-1.0709108,-1.0763876,-1.1640167,-0.99971217,-1.1147254,-1.0928181,-0.95042074,-1.125679,-1.0928181,-1.0982949,-0.8956526,-1.0380499,-1.0818645,-1.15854,-1.0216194,-0.9230367,-0.99971217,-0.9230367,-0.8682685,-0.9120831,-1.2133081,-1.2406923,-1.0216194,-0.96685123,-0.96137446,-0.91755986,-0.97232807,-0.851838,-1.2406923,-0.9887585,-1.0435268,-1.0270963,-1.0763876,-0.9120831,-0.8737453,-0.7477785,-1.0216194,-1.2735533,-1.0270963,-0.83540756,-1.0928181,-1.0380499,-1.0435268,-0.9285135,-1.1968777,-1.1037718,-1.0270963,-1.0380499,-1.1311558,-0.8846989,-0.8627917,-1.0435268,-1.6240696,-1.6021622,-1.6076392,-1.5747782,-1.4816723,-1.311891,-1.2297386,-0.944944,-1.4214271,-1.492626,-1.3940432,-1.366659,-1.3830895,-1.0763876,-1.0873413,-1.0325731,-1.4981027,-1.4323809,-1.2297386,-1.27903,-1.1640167,-1.0873413,-1.1147254,-0.8299308,-1.2078314,-1.2297386,-1.0928181,-1.0818645,-0.9832817,-0.99971217,-1.0216194,-0.9558976,-1.2406923,-1.0763876,-0.97232807,-0.8299308,-0.851838,-1.0818645,-1.2954605,-0.8627917,-1.1694936,-1.0818645,-0.8627917,-0.81350034,-0.8737453,-0.8627917,-1.4761955,-0.8299308,-0.9942354,-0.95042074,-0.8627917,-0.81897706,-0.638242,-0.96685123,-0.89017576,-0.17818914,-1.0106659,-1.0982949,-1.1530632,-0.9230367,-0.7587321,-0.8573148,-0.8682685,0.24900281,"
     ]
    }
   ],
   "source": [
    "import scipy.io\n",
    "input_data = scipy.io.loadmat(\"data/Training_Trimmed/001-001-001.mat\")['Data']\n",
    "import numpy as np\n",
    "input_data = np.array(input_data)\n",
    "input_data = input_data.reshape(-1, 1, 8, 24)\n",
    "\n",
    "# Normalize the input data by subtracting the mean and dividing by the standard deviation\n",
    "input_data = (input_data - input_data.mean()) / input_data.std()\n",
    "# np.save(\"representive_data8\",input_data)\n",
    "for i in input_data[0].reshape(-1):\n",
    "    print(i,end=\",\")"
   ]
  },
  {
   "cell_type": "code",
   "execution_count": 10,
   "metadata": {},
   "outputs": [],
   "source": [
    "\n",
    "# import necessary libraries\n",
    "import pandas as pd\n",
    "import numpy as np\n",
    " \n",
    "# create a dummy array\n",
    "arr = np.load(\"representive_data.npy\")\n",
    " \n",
    "# display the array\n",
    "# print(arr)\n",
    " \n",
    "# convert array into dataframe\n",
    "DF = pd.DataFrame(arr.reshape(-1,192))\n",
    "DF[len(DF.columns)] = 0\n",
    "\n",
    "# save the dataframe as a csv file\n",
    "DF.to_csv(\"representive_data.csv\")"
   ]
  }
 ],
 "metadata": {
  "kernelspec": {
   "display_name": "sEMG",
   "language": "python",
   "name": "python3"
  },
  "language_info": {
   "codemirror_mode": {
    "name": "ipython",
    "version": 3
   },
   "file_extension": ".py",
   "mimetype": "text/x-python",
   "name": "python",
   "nbconvert_exporter": "python",
   "pygments_lexer": "ipython3",
   "version": "3.9.16"
  },
  "orig_nbformat": 4
 },
 "nbformat": 4,
 "nbformat_minor": 2
}
